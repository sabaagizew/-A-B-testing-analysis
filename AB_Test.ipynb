{
  "nbformat": 4,
  "nbformat_minor": 0,
  "metadata": {
    "colab": {
      "name": "AB_Test.ipynb",
      "provenance": [],
      "mount_file_id": "https://github.com/sabaagizew/PythonPackageStructure/blob/main/AB_Test.ipynb",
      "authorship_tag": "ABX9TyMOyXOq2mpnaBXyh6r3qWKG",
      "include_colab_link": true
    },
    "kernelspec": {
      "name": "python3",
      "display_name": "Python 3"
    },
    "language_info": {
      "name": "python"
    }
  },
  "cells": [
    {
      "cell_type": "markdown",
      "metadata": {
        "id": "view-in-github",
        "colab_type": "text"
      },
      "source": [
        "<a href=\"https://colab.research.google.com/github/sabaagizew/-A-B-testing-analysis/blob/main/AB_Test.ipynb\" target=\"_parent\"><img src=\"https://colab.research.google.com/assets/colab-badge.svg\" alt=\"Open In Colab\"/></a>"
      ]
    },
    {
      "cell_type": "code",
      "metadata": {
        "id": "KL-iQrmePAb1"
      },
      "source": [
        "from pydrive.auth import GoogleAuth\n",
        "from pydrive.drive import GoogleDrive\n",
        "from google.colab import auth\n",
        "from oauth2client.client import GoogleCredentials"
      ],
      "execution_count": 28,
      "outputs": []
    },
    {
      "cell_type": "code",
      "metadata": {
        "id": "ip1b6FTuS3HM"
      },
      "source": [
        "import math as mt\n",
        "import numpy as np\n",
        "import pandas as pd\n",
        "from scipy.stats import norm"
      ],
      "execution_count": 29,
      "outputs": []
    },
    {
      "cell_type": "code",
      "metadata": {
        "id": "FBUxcyaYPnem"
      },
      "source": [
        "auth.authenticate_user()\n",
        "gauth = GoogleAuth()\n",
        "gauth.credentials = GoogleCredentials.get_application_default()\n",
        "drive = GoogleDrive(gauth)"
      ],
      "execution_count": 30,
      "outputs": []
    },
    {
      "cell_type": "code",
      "metadata": {
        "colab": {
          "base_uri": "https://localhost:8080/"
        },
        "id": "bBr8HYJLXKWu",
        "outputId": "1ae7ad2a-8427-4912-8687-c61c07d4147a"
      },
      "source": [
        "# Packages imports\n",
        "import numpy as np\n",
        "import pandas as pd\n",
        "import scipy.stats as stats\n",
        "import statsmodels.stats.api as sms\n",
        "import matplotlib as mpl\n",
        "import matplotlib.pyplot as plt\n",
        "import seaborn as sns\n",
        "from math import ceil\n",
        "\n",
        "%matplotlib inline\n",
        "\n",
        "# Some plot styling preferences\n",
        "plt.style.use('seaborn-whitegrid')\n",
        "font = {'family' : 'Helvetica',\n",
        "        'weight' : 'bold',\n",
        "        'size'   : 14}\n",
        "\n",
        "mpl.rc('font', **font)\n",
        "effect_size = sms.proportion_effectsize(0.13, 0.15)    # Calculating effect size based on our expected rates\n",
        "\n",
        "required_n = sms.NormalIndPower().solve_power(\n",
        "    effect_size, \n",
        "    power=0.8, \n",
        "    alpha=0.05, \n",
        "    ratio=1\n",
        "    )                                                  # Calculating sample size needed\n",
        "\n",
        "required_n = ceil(required_n)                          # Rounding up to next whole number                          \n",
        "\n",
        "print(required_n)"
      ],
      "execution_count": 31,
      "outputs": [
        {
          "output_type": "stream",
          "text": [
            "4720\n"
          ],
          "name": "stdout"
        }
      ]
    },
    {
      "cell_type": "code",
      "metadata": {
        "id": "ZbfvKpfTQ6hl"
      },
      "source": [
        "pd.set_option('max_column', None)\n",
        "df= pd.read_csv('drive/MyDrive/AdSmartABdata.csv')\n"
      ],
      "execution_count": 32,
      "outputs": []
    },
    {
      "cell_type": "code",
      "metadata": {
        "id": "7-shpB2xv-Ok"
      },
      "source": [
        "#Exploration on data"
      ],
      "execution_count": 33,
      "outputs": []
    },
    {
      "cell_type": "code",
      "metadata": {
        "colab": {
          "base_uri": "https://localhost:8080/",
          "height": 204
        },
        "id": "-a8Hn8WnQ9IW",
        "outputId": "6f18f781-6e5f-4627-b6a1-0ebf0f88fb30"
      },
      "source": [
        "df.head(5)\n"
      ],
      "execution_count": 34,
      "outputs": [
        {
          "output_type": "execute_result",
          "data": {
            "text/html": [
              "<div>\n",
              "<style scoped>\n",
              "    .dataframe tbody tr th:only-of-type {\n",
              "        vertical-align: middle;\n",
              "    }\n",
              "\n",
              "    .dataframe tbody tr th {\n",
              "        vertical-align: top;\n",
              "    }\n",
              "\n",
              "    .dataframe thead th {\n",
              "        text-align: right;\n",
              "    }\n",
              "</style>\n",
              "<table border=\"1\" class=\"dataframe\">\n",
              "  <thead>\n",
              "    <tr style=\"text-align: right;\">\n",
              "      <th></th>\n",
              "      <th>auction_id</th>\n",
              "      <th>experiment</th>\n",
              "      <th>date</th>\n",
              "      <th>hour</th>\n",
              "      <th>device_make</th>\n",
              "      <th>platform_os</th>\n",
              "      <th>browser</th>\n",
              "      <th>yes</th>\n",
              "      <th>no</th>\n",
              "    </tr>\n",
              "  </thead>\n",
              "  <tbody>\n",
              "    <tr>\n",
              "      <th>0</th>\n",
              "      <td>0008ef63-77a7-448b-bd1e-075f42c55e39</td>\n",
              "      <td>exposed</td>\n",
              "      <td>2020-07-10</td>\n",
              "      <td>8</td>\n",
              "      <td>Generic Smartphone</td>\n",
              "      <td>6</td>\n",
              "      <td>Chrome Mobile</td>\n",
              "      <td>0</td>\n",
              "      <td>0</td>\n",
              "    </tr>\n",
              "    <tr>\n",
              "      <th>1</th>\n",
              "      <td>000eabc5-17ce-4137-8efe-44734d914446</td>\n",
              "      <td>exposed</td>\n",
              "      <td>2020-07-07</td>\n",
              "      <td>10</td>\n",
              "      <td>Generic Smartphone</td>\n",
              "      <td>6</td>\n",
              "      <td>Chrome Mobile</td>\n",
              "      <td>0</td>\n",
              "      <td>0</td>\n",
              "    </tr>\n",
              "    <tr>\n",
              "      <th>2</th>\n",
              "      <td>0016d14a-ae18-4a02-a204-6ba53b52f2ed</td>\n",
              "      <td>exposed</td>\n",
              "      <td>2020-07-05</td>\n",
              "      <td>2</td>\n",
              "      <td>E5823</td>\n",
              "      <td>6</td>\n",
              "      <td>Chrome Mobile WebView</td>\n",
              "      <td>0</td>\n",
              "      <td>1</td>\n",
              "    </tr>\n",
              "    <tr>\n",
              "      <th>3</th>\n",
              "      <td>00187412-2932-4542-a8ef-3633901c98d9</td>\n",
              "      <td>control</td>\n",
              "      <td>2020-07-03</td>\n",
              "      <td>15</td>\n",
              "      <td>Samsung SM-A705FN</td>\n",
              "      <td>6</td>\n",
              "      <td>Facebook</td>\n",
              "      <td>0</td>\n",
              "      <td>0</td>\n",
              "    </tr>\n",
              "    <tr>\n",
              "      <th>4</th>\n",
              "      <td>001a7785-d3fe-4e11-a344-c8735acacc2c</td>\n",
              "      <td>control</td>\n",
              "      <td>2020-07-03</td>\n",
              "      <td>15</td>\n",
              "      <td>Generic Smartphone</td>\n",
              "      <td>6</td>\n",
              "      <td>Chrome Mobile</td>\n",
              "      <td>0</td>\n",
              "      <td>0</td>\n",
              "    </tr>\n",
              "  </tbody>\n",
              "</table>\n",
              "</div>"
            ],
            "text/plain": [
              "                             auction_id experiment        date  hour  \\\n",
              "0  0008ef63-77a7-448b-bd1e-075f42c55e39    exposed  2020-07-10     8   \n",
              "1  000eabc5-17ce-4137-8efe-44734d914446    exposed  2020-07-07    10   \n",
              "2  0016d14a-ae18-4a02-a204-6ba53b52f2ed    exposed  2020-07-05     2   \n",
              "3  00187412-2932-4542-a8ef-3633901c98d9    control  2020-07-03    15   \n",
              "4  001a7785-d3fe-4e11-a344-c8735acacc2c    control  2020-07-03    15   \n",
              "\n",
              "          device_make  platform_os                browser  yes  no  \n",
              "0  Generic Smartphone            6          Chrome Mobile    0   0  \n",
              "1  Generic Smartphone            6          Chrome Mobile    0   0  \n",
              "2               E5823            6  Chrome Mobile WebView    0   1  \n",
              "3   Samsung SM-A705FN            6               Facebook    0   0  \n",
              "4  Generic Smartphone            6          Chrome Mobile    0   0  "
            ]
          },
          "metadata": {
            "tags": []
          },
          "execution_count": 34
        }
      ]
    },
    {
      "cell_type": "code",
      "metadata": {
        "colab": {
          "base_uri": "https://localhost:8080/"
        },
        "id": "10h1aN7bDTY7",
        "outputId": "c5ab991f-1bd3-472b-a824-65dfacdf04bb"
      },
      "source": [
        "df.info()"
      ],
      "execution_count": 35,
      "outputs": [
        {
          "output_type": "stream",
          "text": [
            "<class 'pandas.core.frame.DataFrame'>\n",
            "RangeIndex: 8077 entries, 0 to 8076\n",
            "Data columns (total 9 columns):\n",
            " #   Column       Non-Null Count  Dtype \n",
            "---  ------       --------------  ----- \n",
            " 0   auction_id   8077 non-null   object\n",
            " 1   experiment   8077 non-null   object\n",
            " 2   date         8077 non-null   object\n",
            " 3   hour         8077 non-null   int64 \n",
            " 4   device_make  8077 non-null   object\n",
            " 5   platform_os  8077 non-null   int64 \n",
            " 6   browser      8077 non-null   object\n",
            " 7   yes          8077 non-null   int64 \n",
            " 8   no           8077 non-null   int64 \n",
            "dtypes: int64(4), object(5)\n",
            "memory usage: 568.0+ KB\n"
          ],
          "name": "stdout"
        }
      ]
    },
    {
      "cell_type": "code",
      "metadata": {
        "id": "qksUpedpV3wT"
      },
      "source": [
        ""
      ],
      "execution_count": 35,
      "outputs": []
    },
    {
      "cell_type": "code",
      "metadata": {
        "colab": {
          "base_uri": "https://localhost:8080/"
        },
        "id": "-P8yFrtBETSi",
        "outputId": "01361071-abf8-4783-a166-9088aa34b4c3"
      },
      "source": [
        "df.shape"
      ],
      "execution_count": 36,
      "outputs": [
        {
          "output_type": "execute_result",
          "data": {
            "text/plain": [
              "(8077, 9)"
            ]
          },
          "metadata": {
            "tags": []
          },
          "execution_count": 36
        }
      ]
    },
    {
      "cell_type": "code",
      "metadata": {
        "colab": {
          "base_uri": "https://localhost:8080/"
        },
        "id": "y8v0bygQTVPE",
        "outputId": "090c32fe-1471-48ab-ea5f-18f5af2393db"
      },
      "source": [
        "df.isna().sum()\n",
        "#number of records that has no value"
      ],
      "execution_count": 37,
      "outputs": [
        {
          "output_type": "execute_result",
          "data": {
            "text/plain": [
              "auction_id     0\n",
              "experiment     0\n",
              "date           0\n",
              "hour           0\n",
              "device_make    0\n",
              "platform_os    0\n",
              "browser        0\n",
              "yes            0\n",
              "no             0\n",
              "dtype: int64"
            ]
          },
          "metadata": {
            "tags": []
          },
          "execution_count": 37
        }
      ]
    },
    {
      "cell_type": "code",
      "metadata": {
        "colab": {
          "base_uri": "https://localhost:8080/"
        },
        "id": "y4aJDdhDTgUM",
        "outputId": "53db2c13-5e86-43a6-96b8-c3a0b5170646"
      },
      "source": [
        "# Calculate total number of cells in dataframe\n",
        "totalCells = np.product(df.shape)\n",
        "\n",
        "    # Count number of missing values per column\n",
        "missingCount = df.isnull().sum()\n",
        "\n",
        "    # Calculate total number of missing values\n",
        "totalMissing = missingCount.sum()\n",
        "\n",
        "    # Calculate percentage of missing values\n",
        "print(\"The AdSmartABdata dataset contains\", round(((totalMissing/totalCells) * 100), 2), \"%\", \"missing values.\")"
      ],
      "execution_count": 38,
      "outputs": [
        {
          "output_type": "stream",
          "text": [
            "The AdSmartABdata dataset contains 0.0 % missing values.\n"
          ],
          "name": "stdout"
        }
      ]
    },
    {
      "cell_type": "code",
      "metadata": {
        "colab": {
          "base_uri": "https://localhost:8080/"
        },
        "id": "WZkmbSDHHLFe",
        "outputId": "f2c1cc02-1bef-4cba-a4bb-0c95dbbcb026"
      },
      "source": [
        "for col in df.columns:\n",
        "    print(col)\n",
        "\n",
        "#print(df.columns)\n",
        "# other way of listing the columns"
      ],
      "execution_count": 39,
      "outputs": [
        {
          "output_type": "stream",
          "text": [
            "auction_id\n",
            "experiment\n",
            "date\n",
            "hour\n",
            "device_make\n",
            "platform_os\n",
            "browser\n",
            "yes\n",
            "no\n"
          ],
          "name": "stdout"
        }
      ]
    },
    {
      "cell_type": "code",
      "metadata": {
        "colab": {
          "base_uri": "https://localhost:8080/",
          "height": 176
        },
        "id": "z0N3JVeSTIBu",
        "outputId": "bbefc38d-357b-4d07-e44d-554b4613f3a8"
      },
      "source": [
        "# To make sure all the control group are seeing the old page and viceversa\n",
        "\n",
        "pd.crosstab(df['experiment'], df['browser'])"
      ],
      "execution_count": 40,
      "outputs": [
        {
          "output_type": "execute_result",
          "data": {
            "text/html": [
              "<div>\n",
              "<style scoped>\n",
              "    .dataframe tbody tr th:only-of-type {\n",
              "        vertical-align: middle;\n",
              "    }\n",
              "\n",
              "    .dataframe tbody tr th {\n",
              "        vertical-align: top;\n",
              "    }\n",
              "\n",
              "    .dataframe thead th {\n",
              "        text-align: right;\n",
              "    }\n",
              "</style>\n",
              "<table border=\"1\" class=\"dataframe\">\n",
              "  <thead>\n",
              "    <tr style=\"text-align: right;\">\n",
              "      <th>browser</th>\n",
              "      <th>Android</th>\n",
              "      <th>Chrome</th>\n",
              "      <th>Chrome Mobile</th>\n",
              "      <th>Chrome Mobile WebView</th>\n",
              "      <th>Chrome Mobile iOS</th>\n",
              "      <th>Edge Mobile</th>\n",
              "      <th>Facebook</th>\n",
              "      <th>Firefox Mobile</th>\n",
              "      <th>Mobile Safari</th>\n",
              "      <th>Mobile Safari UI/WKWebView</th>\n",
              "      <th>Opera Mini</th>\n",
              "      <th>Opera Mobile</th>\n",
              "      <th>Pinterest</th>\n",
              "      <th>Puffin</th>\n",
              "      <th>Samsung Internet</th>\n",
              "    </tr>\n",
              "    <tr>\n",
              "      <th>experiment</th>\n",
              "      <th></th>\n",
              "      <th></th>\n",
              "      <th></th>\n",
              "      <th></th>\n",
              "      <th></th>\n",
              "      <th></th>\n",
              "      <th></th>\n",
              "      <th></th>\n",
              "      <th></th>\n",
              "      <th></th>\n",
              "      <th></th>\n",
              "      <th></th>\n",
              "      <th></th>\n",
              "      <th></th>\n",
              "      <th></th>\n",
              "    </tr>\n",
              "  </thead>\n",
              "  <tbody>\n",
              "    <tr>\n",
              "      <th>control</th>\n",
              "      <td>1</td>\n",
              "      <td>1</td>\n",
              "      <td>2410</td>\n",
              "      <td>292</td>\n",
              "      <td>34</td>\n",
              "      <td>0</td>\n",
              "      <td>561</td>\n",
              "      <td>0</td>\n",
              "      <td>246</td>\n",
              "      <td>30</td>\n",
              "      <td>1</td>\n",
              "      <td>0</td>\n",
              "      <td>2</td>\n",
              "      <td>1</td>\n",
              "      <td>492</td>\n",
              "    </tr>\n",
              "    <tr>\n",
              "      <th>exposed</th>\n",
              "      <td>0</td>\n",
              "      <td>2</td>\n",
              "      <td>2144</td>\n",
              "      <td>1197</td>\n",
              "      <td>17</td>\n",
              "      <td>1</td>\n",
              "      <td>203</td>\n",
              "      <td>1</td>\n",
              "      <td>91</td>\n",
              "      <td>14</td>\n",
              "      <td>0</td>\n",
              "      <td>3</td>\n",
              "      <td>1</td>\n",
              "      <td>0</td>\n",
              "      <td>332</td>\n",
              "    </tr>\n",
              "  </tbody>\n",
              "</table>\n",
              "</div>"
            ],
            "text/plain": [
              "browser     Android  Chrome  Chrome Mobile  Chrome Mobile WebView  \\\n",
              "experiment                                                          \n",
              "control           1       1           2410                    292   \n",
              "exposed           0       2           2144                   1197   \n",
              "\n",
              "browser     Chrome Mobile iOS  Edge Mobile  Facebook  Firefox Mobile  \\\n",
              "experiment                                                             \n",
              "control                    34            0       561               0   \n",
              "exposed                    17            1       203               1   \n",
              "\n",
              "browser     Mobile Safari  Mobile Safari UI/WKWebView  Opera Mini  \\\n",
              "experiment                                                          \n",
              "control               246                          30           1   \n",
              "exposed                91                          14           0   \n",
              "\n",
              "browser     Opera Mobile  Pinterest  Puffin  Samsung Internet  \n",
              "experiment                                                     \n",
              "control                0          2       1               492  \n",
              "exposed                3          1       0               332  "
            ]
          },
          "metadata": {
            "tags": []
          },
          "execution_count": 40
        }
      ]
    },
    {
      "cell_type": "code",
      "metadata": {
        "colab": {
          "base_uri": "https://localhost:8080/"
        },
        "id": "j1hy60KwP8MD",
        "outputId": "05f63ab5-172d-4565-f170-64c425ed183a"
      },
      "source": [
        "session_counts= df['auction_id'].value_counts(ascending=False)\n",
        "multi_users = session_counts[session_counts > 1].count()\n",
        "\n",
        "print(f'There are {multi_users} users that appear multiple times in the dataset')"
      ],
      "execution_count": 41,
      "outputs": [
        {
          "output_type": "stream",
          "text": [
            "There are 0 users that appear multiple times in the dataset\n"
          ],
          "name": "stdout"
        }
      ]
    },
    {
      "cell_type": "code",
      "metadata": {
        "id": "nvh_RRcS0hzm"
      },
      "source": [
        "import tensorflow as tf\n",
        "from tensorflow import keras\n",
        "from tensorflow.keras import layers"
      ],
      "execution_count": 71,
      "outputs": []
    },
    {
      "cell_type": "code",
      "metadata": {
        "id": "PbyF-j7hPMd4"
      },
      "source": [
        ""
      ],
      "execution_count": null,
      "outputs": []
    },
    {
      "cell_type": "code",
      "metadata": {
        "id": "rpr0mc02kDpg",
        "colab": {
          "base_uri": "https://localhost:8080/",
          "height": 533
        },
        "outputId": "8469e562-96f3-4fba-a600-0d21dbabf581"
      },
      "source": [
        "df.head().boxplot('hour','experiment',rot = 30,figsize=(5,6))\n"
      ],
      "execution_count": 43,
      "outputs": [
        {
          "output_type": "stream",
          "text": [
            "/usr/local/lib/python3.7/dist-packages/numpy/core/_asarray.py:83: VisibleDeprecationWarning: Creating an ndarray from ragged nested sequences (which is a list-or-tuple of lists-or-tuples-or ndarrays with different lengths or shapes) is deprecated. If you meant to do this, you must specify 'dtype=object' when creating the ndarray\n",
            "  return array(a, dtype, copy=False, order=order)\n"
          ],
          "name": "stderr"
        },
        {
          "output_type": "execute_result",
          "data": {
            "text/plain": [
              "<matplotlib.axes._subplots.AxesSubplot at 0x7f0ff559f090>"
            ]
          },
          "metadata": {
            "tags": []
          },
          "execution_count": 43
        },
        {
          "output_type": "stream",
          "text": [
            "findfont: Font family ['Helvetica'] not found. Falling back to DejaVu Sans.\n",
            "findfont: Font family ['Helvetica'] not found. Falling back to DejaVu Sans.\n"
          ],
          "name": "stderr"
        },
        {
          "output_type": "display_data",
          "data": {
            "image/png": "[encoded data removed]",
            "text/plain": [
              "<Figure size 360x432 with 1 Axes>"
            ]
          },
          "metadata": {
            "tags": []
          }
        }
      ]
    },
    {
      "cell_type": "code",
      "metadata": {
        "id": "o06vmVZ8upK0"
      },
      "source": [
        "#users occurance in Ad on differnt hours"
      ],
      "execution_count": 44,
      "outputs": []
    },
    {
      "cell_type": "code",
      "metadata": {
        "id": "U32VCxs2UIBi",
        "colab": {
          "base_uri": "https://localhost:8080/",
          "height": 355
        },
        "outputId": "2251e0fa-94cc-47fd-b31d-48e4b7111d3c"
      },
      "source": [
        "%matplotlib inline\n",
        "import seaborn as sns\n",
        "import matplotlib.pyplot as plt\n",
        "hour_count = df.head()['hour'].value_counts()\n",
        "sns.set(style=\"darkgrid\")\n",
        "sns.barplot(hour_count.index, hour_count.values, alpha=0.9)\n",
        "plt.title('Frequency Distribution of hour')\n",
        "plt.ylabel('Number of Occurrences', fontsize=12)\n",
        "plt.xlabel('hour', fontsize=12)\n",
        "plt.show()"
      ],
      "execution_count": 45,
      "outputs": [
        {
          "output_type": "stream",
          "text": [
            "/usr/local/lib/python3.7/dist-packages/seaborn/_decorators.py:43: FutureWarning: Pass the following variables as keyword args: x, y. From version 0.12, the only valid positional argument will be `data`, and passing other arguments without an explicit keyword will result in an error or misinterpretation.\n",
            "  FutureWarning\n"
          ],
          "name": "stderr"
        },
        {
          "output_type": "display_data",
          "data": {
            "image/png": "[encoded data removed]",
            "text/plain": [
              "<Figure size 432x288 with 1 Axes>"
            ]
          },
          "metadata": {
            "tags": []
          }
        }
      ]
    },
    {
      "cell_type": "code",
      "metadata": {
        "id": "PFwXU-VS0Xz4"
      },
      "source": [
        "# the classical p-value based algorithm"
      ],
      "execution_count": 46,
      "outputs": []
    },
    {
      "cell_type": "code",
      "metadata": {
        "id": "_0OAla3sz9fx"
      },
      "source": [
        "def pvalue_101(mu, sigma, samp_size, samp_mean=0, deltam=0):\n",
        "    np.random.seed(1234)\n",
        "    s1 = np.random.normal(mu, sigma, samp_size)\n",
        "    if samp_mean > 0:\n",
        "        print(len(s1[s1>samp_mean]))\n",
        "        outliers = float(len(s1[s1>samp_mean])*100)/float(len(s1))\n",
        "        print('Percentage of numbers larger than {} is {}%'.format(samp_mean, outliers))\n",
        "    if deltam == 0:\n",
        "        deltam = abs(mu-samp_mean)\n",
        "    if deltam > 0 :\n",
        "        outliers = (float(len(s1[s1>(mu+deltam)]))\n",
        "                    +float(len(s1[s1<(mu-deltam)])))*100.0/float(len(s1))\n",
        "        print('Percentage of numbers further than the population mean of {} by +/-{} is {}%'.format(mu, deltam, outliers))\n",
        "\n",
        "    fig, ax = plt.subplots(figsize=(8,8))\n",
        "    fig.suptitle('Normal Distribution: population_mean={}'.format(mu) )\n",
        "    plt.hist(s1)\n",
        "    plt.axvline(x=mu+deltam, color='red')\n",
        "    plt.axvline(x=mu-deltam, color='green')\n",
        "    plt.show()"
      ],
      "execution_count": 47,
      "outputs": []
    },
    {
      "cell_type": "code",
      "metadata": {
        "id": "Wsy36SORVaXj",
        "colab": {
          "base_uri": "https://localhost:8080/",
          "height": 594
        },
        "outputId": "73af29bc-75a9-4954-b549-45aad86adc2c"
      },
      "source": [
        "pvalue_101(170.0, 5.0, 10000, 183.0)"
      ],
      "execution_count": 48,
      "outputs": [
        {
          "output_type": "stream",
          "text": [
            "35\n",
            "Percentage of numbers larger than 183.0 is 0.35%\n",
            "Percentage of numbers further than the population mean of 170.0 by +/-13.0 is 0.77%\n"
          ],
          "name": "stdout"
        },
        {
          "output_type": "display_data",
          "data": {
            "image/png": "[encoded data removed]",
            "text/plain": [
              "<Figure size 576x576 with 1 Axes>"
            ]
          },
          "metadata": {
            "tags": []
          }
        }
      ]
    },
    {
      "cell_type": "code",
      "metadata": {
        "id": "H4k3d3P3ugGK"
      },
      "source": [
        "#A p-value of 0.35% will give the probability that we get a sample mean that is more than $183, given the hypothesis that the population mean is $170.\n",
        "#A p-value of 0.77% will give the probability that we get a sample mean that is more than $183 or less than $157, given the hypothesis that the population mean is $170."
      ],
      "execution_count": 49,
      "outputs": []
    },
    {
      "cell_type": "code",
      "metadata": {
        "id": "cWnEmKCs6lyy"
      },
      "source": [
        "#the  sequential A/B testing algorithm "
      ],
      "execution_count": 50,
      "outputs": []
    },
    {
      "cell_type": "code",
      "metadata": {
        "id": "GPZJl6gx6hVu"
      },
      "source": [
        "from scipy import stats\n",
        "def get_power(n, p1, p2, cl):\n",
        "    alpha = 1 - cl\n",
        "    qu = stats.norm.ppf(1 - alpha/2)\n",
        "    diff = abs(p2-p1)\n",
        "    bp = (p1+p2) / 2\n",
        "    \n",
        "    v1 = p1 * (1-p1)\n",
        "    v2 = p2 * (1-p2)\n",
        "    bv = bp * (1-bp)\n",
        "    \n",
        "    power_part_one = stats.norm.cdf((n**0.5 * diff - qu * (2 * bv)**0.5) / (v1+v2) ** 0.5)\n",
        "    power_part_two = 1 - stats.norm.cdf((n**0.5 * diff + qu * (2 * bv)**0.5) / (v1+v2) ** 0.5)\n",
        "    \n",
        "    power = power_part_one + power_part_two\n",
        "    \n",
        "    return (power)"
      ],
      "execution_count": 51,
      "outputs": []
    },
    {
      "cell_type": "code",
      "metadata": {
        "id": "gt6zh7xE6hYj",
        "colab": {
          "base_uri": "https://localhost:8080/"
        },
        "outputId": "c5960a8b-7341-496f-f101-5c69d7c51369"
      },
      "source": [
        "get_power(1000, 0.1, 0.12, 0.95)   #  0.29808032538146\n",
        "get_power(2000, 0.1, 0.12, 0.95)   #  0.524515256115834\n",
        "get_power(1000, 0.1, 0.12, 0.8)    #  0.5621010118690234"
      ],
      "execution_count": 52,
      "outputs": [
        {
          "output_type": "execute_result",
          "data": {
            "text/plain": [
              "0.5621010118690234"
            ]
          },
          "metadata": {
            "tags": []
          },
          "execution_count": 52
        }
      ]
    },
    {
      "cell_type": "code",
      "metadata": {
        "id": "dqI9Jip97kHn"
      },
      "source": [
        "#the smaller the Beta, the bigger the power."
      ],
      "execution_count": 53,
      "outputs": []
    },
    {
      "cell_type": "code",
      "metadata": {
        "id": "PUnUBPL3PT5d"
      },
      "source": [
        ""
      ],
      "execution_count": null,
      "outputs": []
    }
  ]
}