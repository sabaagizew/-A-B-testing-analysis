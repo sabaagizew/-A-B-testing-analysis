{
  "nbformat": 4,
  "nbformat_minor": 0,
  "metadata": {
    "colab": {
      "name": "Rossmann-store-sales_Final_update.ipynb",
      "provenance": [],
      "include_colab_link": true
    },
    "kernelspec": {
      "name": "python3",
      "display_name": "Python 3"
    },
    "language_info": {
      "name": "python"
    }
  },
  "cells": [
    {
      "cell_type": "markdown",
      "metadata": {
        "id": "view-in-github",
        "colab_type": "text"
      },
      "source": [
        "<a href=\"https://colab.research.google.com/github/sabaagizew/-A-B-testing-analysis/blob/main/notebooks/Rossmann_store_sales_Final_update.ipynb\" target=\"_parent\"><img src=\"https://colab.research.google.com/assets/colab-badge.svg\" alt=\"Open In Colab\"/></a>"
      ]
    },
    {
      "cell_type": "code",
      "metadata": {
        "id": "rjZ1IwoLD83z"
      },
      "source": [
        "import warnings\n",
        "warnings.filterwarnings(\"ignore\")\n",
        "#Data Manipulation and Treatment\n",
        "import numpy as np\n",
        "import pandas as pd\n",
        "from datetime import datetime\n",
        "#Plotting and Visualizations\n",
        "import matplotlib.pyplot as plt\n",
        "%matplotlib inline \n",
        "import seaborn as sns\n",
        "from scipy import stats\n",
        "import itertools\n",
        "#Scikit-Learn for Modeling\n",
        "from sklearn import model_selection\n",
        "from sklearn.ensemble import RandomForestRegressor\n",
        "from sklearn import metrics"
      ],
      "execution_count": null,
      "outputs": []
    },
    {
      "cell_type": "code",
      "metadata": {
        "id": "eyTD4ihrEL30"
      },
      "source": [
        "def str_to_date(date):\n",
        "    return datetime.strptime(date, '%Y-%m-%d').date()"
      ],
      "execution_count": null,
      "outputs": []
    },
    {
      "cell_type": "code",
      "metadata": {
        "id": "RJKOipgtX4HS"
      },
      "source": [
        "def str_to_date_(date):\n",
        "  return datetime.strptime(date,'%m/%d/%Y').date()"
      ],
      "execution_count": null,
      "outputs": []
    },
    {
      "cell_type": "code",
      "metadata": {
        "id": "Cp_TdRJKERbc"
      },
      "source": [
        "#The training Set\n",
        "df_train = pd.read_csv(\"drive/MyDrive/rossmann-store-sales/train.csv\",sep=',', parse_dates=['Date']\n",
        "                       , date_parser=str_to_date,\n",
        "                       low_memory = False)\n",
        "\n",
        "\n",
        "#Additional Information on those stores \n",
        "df_store = pd.read_csv(\"drive/MyDrive/rossmann-store-sales/store.csv\"\n",
        "                       , low_memory = False)\n",
        "\n",
        "\n"
      ],
      "execution_count": null,
      "outputs": []
    },
    {
      "cell_type": "code",
      "metadata": {
        "colab": {
          "base_uri": "https://localhost:8080/"
        },
        "id": "DXfbCAvYXhlv",
        "outputId": "2a4aa1b2-11e9-45c0-c92b-f4e2ceda5915"
      },
      "source": [
        "df_test = pd.read_csv(\"drive/MyDrive/rossmann-store-sales/test.csv\",sep=',', parse_dates=['Date']\n",
        "                       , date_parser=str_to_date_,\n",
        "                       low_memory = False)\n",
        "print (\"The Test dataset has {} Rows and {} Variables\".format(str(df_test.shape[0]),str(df_test.shape[1])))"
      ],
      "execution_count": null,
      "outputs": [
        {
          "output_type": "stream",
          "text": [
            "The Test dataset has 41088 Rows and 8 Variables\n"
          ],
          "name": "stdout"
        }
      ]
    },
    {
      "cell_type": "code",
      "metadata": {
        "colab": {
          "base_uri": "https://localhost:8080/",
          "height": 202
        },
        "id": "RsnFwip0E8cV",
        "outputId": "b7e09cb2-56f3-4b87-b511-b4050418904d"
      },
      "source": [
        "df_train.head() "
      ],
      "execution_count": null,
      "outputs": [
        {
          "output_type": "execute_result",
          "data": {
            "text/html": [
              "<div>\n",
              "<style scoped>\n",
              "    .dataframe tbody tr th:only-of-type {\n",
              "        vertical-align: middle;\n",
              "    }\n",
              "\n",
              "    .dataframe tbody tr th {\n",
              "        vertical-align: top;\n",
              "    }\n",
              "\n",
              "    .dataframe thead th {\n",
              "        text-align: right;\n",
              "    }\n",
              "</style>\n",
              "<table border=\"1\" class=\"dataframe\">\n",
              "  <thead>\n",
              "    <tr style=\"text-align: right;\">\n",
              "      <th></th>\n",
              "      <th>Store</th>\n",
              "      <th>DayOfWeek</th>\n",
              "      <th>Date</th>\n",
              "      <th>Sales</th>\n",
              "      <th>Customers</th>\n",
              "      <th>Open</th>\n",
              "      <th>Promo</th>\n",
              "      <th>StateHoliday</th>\n",
              "      <th>SchoolHoliday</th>\n",
              "    </tr>\n",
              "  </thead>\n",
              "  <tbody>\n",
              "    <tr>\n",
              "      <th>0</th>\n",
              "      <td>1</td>\n",
              "      <td>5</td>\n",
              "      <td>2015-07-31</td>\n",
              "      <td>5263</td>\n",
              "      <td>555</td>\n",
              "      <td>1</td>\n",
              "      <td>1</td>\n",
              "      <td>0</td>\n",
              "      <td>1</td>\n",
              "    </tr>\n",
              "    <tr>\n",
              "      <th>1</th>\n",
              "      <td>2</td>\n",
              "      <td>5</td>\n",
              "      <td>2015-07-31</td>\n",
              "      <td>6064</td>\n",
              "      <td>625</td>\n",
              "      <td>1</td>\n",
              "      <td>1</td>\n",
              "      <td>0</td>\n",
              "      <td>1</td>\n",
              "    </tr>\n",
              "    <tr>\n",
              "      <th>2</th>\n",
              "      <td>3</td>\n",
              "      <td>5</td>\n",
              "      <td>2015-07-31</td>\n",
              "      <td>8314</td>\n",
              "      <td>821</td>\n",
              "      <td>1</td>\n",
              "      <td>1</td>\n",
              "      <td>0</td>\n",
              "      <td>1</td>\n",
              "    </tr>\n",
              "    <tr>\n",
              "      <th>3</th>\n",
              "      <td>4</td>\n",
              "      <td>5</td>\n",
              "      <td>2015-07-31</td>\n",
              "      <td>13995</td>\n",
              "      <td>1498</td>\n",
              "      <td>1</td>\n",
              "      <td>1</td>\n",
              "      <td>0</td>\n",
              "      <td>1</td>\n",
              "    </tr>\n",
              "    <tr>\n",
              "      <th>4</th>\n",
              "      <td>5</td>\n",
              "      <td>5</td>\n",
              "      <td>2015-07-31</td>\n",
              "      <td>4822</td>\n",
              "      <td>559</td>\n",
              "      <td>1</td>\n",
              "      <td>1</td>\n",
              "      <td>0</td>\n",
              "      <td>1</td>\n",
              "    </tr>\n",
              "  </tbody>\n",
              "</table>\n",
              "</div>"
            ],
            "text/plain": [
              "   Store  DayOfWeek       Date  Sales  ...  Open  Promo  StateHoliday SchoolHoliday\n",
              "0      1          5 2015-07-31   5263  ...     1      1             0             1\n",
              "1      2          5 2015-07-31   6064  ...     1      1             0             1\n",
              "2      3          5 2015-07-31   8314  ...     1      1             0             1\n",
              "3      4          5 2015-07-31  13995  ...     1      1             0             1\n",
              "4      5          5 2015-07-31   4822  ...     1      1             0             1\n",
              "\n",
              "[5 rows x 9 columns]"
            ]
          },
          "metadata": {
            "tags": []
          },
          "execution_count": 6
        }
      ]
    },
    {
      "cell_type": "code",
      "metadata": {
        "colab": {
          "base_uri": "https://localhost:8080/"
        },
        "id": "KLv4FRReFFam",
        "outputId": "e49e7135-c469-4af4-b234-c12e656c5ed1"
      },
      "source": [
        "df_train.dtypes,print (\"The Train dataset has {} Rows and {} Variables\".format(str(df_train.shape[0]),str(df_train.shape[1])))"
      ],
      "execution_count": null,
      "outputs": [
        {
          "output_type": "stream",
          "text": [
            "The Train dataset has 1017209 Rows and 9 Variables\n"
          ],
          "name": "stdout"
        },
        {
          "output_type": "execute_result",
          "data": {
            "text/plain": [
              "(Store                     int64\n",
              " DayOfWeek                 int64\n",
              " Date             datetime64[ns]\n",
              " Sales                     int64\n",
              " Customers                 int64\n",
              " Open                      int64\n",
              " Promo                     int64\n",
              " StateHoliday             object\n",
              " SchoolHoliday             int64\n",
              " dtype: object, None)"
            ]
          },
          "metadata": {
            "tags": []
          },
          "execution_count": 7
        }
      ]
    },
    {
      "cell_type": "code",
      "metadata": {
        "colab": {
          "base_uri": "https://localhost:8080/",
          "height": 202
        },
        "id": "WrfXPyVBFH3M",
        "outputId": "09457055-9a9d-4031-ad08-caf9906470cc"
      },
      "source": [
        "df_store.head()"
      ],
      "execution_count": null,
      "outputs": [
        {
          "output_type": "execute_result",
          "data": {
            "text/html": [
              "<div>\n",
              "<style scoped>\n",
              "    .dataframe tbody tr th:only-of-type {\n",
              "        vertical-align: middle;\n",
              "    }\n",
              "\n",
              "    .dataframe tbody tr th {\n",
              "        vertical-align: top;\n",
              "    }\n",
              "\n",
              "    .dataframe thead th {\n",
              "        text-align: right;\n",
              "    }\n",
              "</style>\n",
              "<table border=\"1\" class=\"dataframe\">\n",
              "  <thead>\n",
              "    <tr style=\"text-align: right;\">\n",
              "      <th></th>\n",
              "      <th>Store</th>\n",
              "      <th>StoreType</th>\n",
              "      <th>Assortment</th>\n",
              "      <th>CompetitionDistance</th>\n",
              "      <th>CompetitionOpenSinceMonth</th>\n",
              "      <th>CompetitionOpenSinceYear</th>\n",
              "      <th>Promo2</th>\n",
              "      <th>Promo2SinceWeek</th>\n",
              "      <th>Promo2SinceYear</th>\n",
              "      <th>PromoInterval</th>\n",
              "    </tr>\n",
              "  </thead>\n",
              "  <tbody>\n",
              "    <tr>\n",
              "      <th>0</th>\n",
              "      <td>1</td>\n",
              "      <td>c</td>\n",
              "      <td>a</td>\n",
              "      <td>1270.0</td>\n",
              "      <td>9.0</td>\n",
              "      <td>2008.0</td>\n",
              "      <td>0</td>\n",
              "      <td>NaN</td>\n",
              "      <td>NaN</td>\n",
              "      <td>NaN</td>\n",
              "    </tr>\n",
              "    <tr>\n",
              "      <th>1</th>\n",
              "      <td>2</td>\n",
              "      <td>a</td>\n",
              "      <td>a</td>\n",
              "      <td>570.0</td>\n",
              "      <td>11.0</td>\n",
              "      <td>2007.0</td>\n",
              "      <td>1</td>\n",
              "      <td>13.0</td>\n",
              "      <td>2010.0</td>\n",
              "      <td>Jan,Apr,Jul,Oct</td>\n",
              "    </tr>\n",
              "    <tr>\n",
              "      <th>2</th>\n",
              "      <td>3</td>\n",
              "      <td>a</td>\n",
              "      <td>a</td>\n",
              "      <td>14130.0</td>\n",
              "      <td>12.0</td>\n",
              "      <td>2006.0</td>\n",
              "      <td>1</td>\n",
              "      <td>14.0</td>\n",
              "      <td>2011.0</td>\n",
              "      <td>Jan,Apr,Jul,Oct</td>\n",
              "    </tr>\n",
              "    <tr>\n",
              "      <th>3</th>\n",
              "      <td>4</td>\n",
              "      <td>c</td>\n",
              "      <td>c</td>\n",
              "      <td>620.0</td>\n",
              "      <td>9.0</td>\n",
              "      <td>2009.0</td>\n",
              "      <td>0</td>\n",
              "      <td>NaN</td>\n",
              "      <td>NaN</td>\n",
              "      <td>NaN</td>\n",
              "    </tr>\n",
              "    <tr>\n",
              "      <th>4</th>\n",
              "      <td>5</td>\n",
              "      <td>a</td>\n",
              "      <td>a</td>\n",
              "      <td>29910.0</td>\n",
              "      <td>4.0</td>\n",
              "      <td>2015.0</td>\n",
              "      <td>0</td>\n",
              "      <td>NaN</td>\n",
              "      <td>NaN</td>\n",
              "      <td>NaN</td>\n",
              "    </tr>\n",
              "  </tbody>\n",
              "</table>\n",
              "</div>"
            ],
            "text/plain": [
              "   Store StoreType  ... Promo2SinceYear    PromoInterval\n",
              "0      1         c  ...             NaN              NaN\n",
              "1      2         a  ...          2010.0  Jan,Apr,Jul,Oct\n",
              "2      3         a  ...          2011.0  Jan,Apr,Jul,Oct\n",
              "3      4         c  ...             NaN              NaN\n",
              "4      5         a  ...             NaN              NaN\n",
              "\n",
              "[5 rows x 10 columns]"
            ]
          },
          "metadata": {
            "tags": []
          },
          "execution_count": 8
        }
      ]
    },
    {
      "cell_type": "code",
      "metadata": {
        "colab": {
          "base_uri": "https://localhost:8080/",
          "height": 202
        },
        "id": "sZHDqQFsFQE1",
        "outputId": "9261dcd1-2db9-410a-9b4e-9b5fb608c96f"
      },
      "source": [
        "df_store.tail()"
      ],
      "execution_count": null,
      "outputs": [
        {
          "output_type": "execute_result",
          "data": {
            "text/html": [
              "<div>\n",
              "<style scoped>\n",
              "    .dataframe tbody tr th:only-of-type {\n",
              "        vertical-align: middle;\n",
              "    }\n",
              "\n",
              "    .dataframe tbody tr th {\n",
              "        vertical-align: top;\n",
              "    }\n",
              "\n",
              "    .dataframe thead th {\n",
              "        text-align: right;\n",
              "    }\n",
              "</style>\n",
              "<table border=\"1\" class=\"dataframe\">\n",
              "  <thead>\n",
              "    <tr style=\"text-align: right;\">\n",
              "      <th></th>\n",
              "      <th>Store</th>\n",
              "      <th>StoreType</th>\n",
              "      <th>Assortment</th>\n",
              "      <th>CompetitionDistance</th>\n",
              "      <th>CompetitionOpenSinceMonth</th>\n",
              "      <th>CompetitionOpenSinceYear</th>\n",
              "      <th>Promo2</th>\n",
              "      <th>Promo2SinceWeek</th>\n",
              "      <th>Promo2SinceYear</th>\n",
              "      <th>PromoInterval</th>\n",
              "    </tr>\n",
              "  </thead>\n",
              "  <tbody>\n",
              "    <tr>\n",
              "      <th>1110</th>\n",
              "      <td>1111</td>\n",
              "      <td>a</td>\n",
              "      <td>a</td>\n",
              "      <td>1900.0</td>\n",
              "      <td>6.0</td>\n",
              "      <td>2014.0</td>\n",
              "      <td>1</td>\n",
              "      <td>31.0</td>\n",
              "      <td>2013.0</td>\n",
              "      <td>Jan,Apr,Jul,Oct</td>\n",
              "    </tr>\n",
              "    <tr>\n",
              "      <th>1111</th>\n",
              "      <td>1112</td>\n",
              "      <td>c</td>\n",
              "      <td>c</td>\n",
              "      <td>1880.0</td>\n",
              "      <td>4.0</td>\n",
              "      <td>2006.0</td>\n",
              "      <td>0</td>\n",
              "      <td>NaN</td>\n",
              "      <td>NaN</td>\n",
              "      <td>NaN</td>\n",
              "    </tr>\n",
              "    <tr>\n",
              "      <th>1112</th>\n",
              "      <td>1113</td>\n",
              "      <td>a</td>\n",
              "      <td>c</td>\n",
              "      <td>9260.0</td>\n",
              "      <td>NaN</td>\n",
              "      <td>NaN</td>\n",
              "      <td>0</td>\n",
              "      <td>NaN</td>\n",
              "      <td>NaN</td>\n",
              "      <td>NaN</td>\n",
              "    </tr>\n",
              "    <tr>\n",
              "      <th>1113</th>\n",
              "      <td>1114</td>\n",
              "      <td>a</td>\n",
              "      <td>c</td>\n",
              "      <td>870.0</td>\n",
              "      <td>NaN</td>\n",
              "      <td>NaN</td>\n",
              "      <td>0</td>\n",
              "      <td>NaN</td>\n",
              "      <td>NaN</td>\n",
              "      <td>NaN</td>\n",
              "    </tr>\n",
              "    <tr>\n",
              "      <th>1114</th>\n",
              "      <td>1115</td>\n",
              "      <td>d</td>\n",
              "      <td>c</td>\n",
              "      <td>5350.0</td>\n",
              "      <td>NaN</td>\n",
              "      <td>NaN</td>\n",
              "      <td>1</td>\n",
              "      <td>22.0</td>\n",
              "      <td>2012.0</td>\n",
              "      <td>Mar,Jun,Sept,Dec</td>\n",
              "    </tr>\n",
              "  </tbody>\n",
              "</table>\n",
              "</div>"
            ],
            "text/plain": [
              "      Store StoreType  ... Promo2SinceYear     PromoInterval\n",
              "1110   1111         a  ...          2013.0   Jan,Apr,Jul,Oct\n",
              "1111   1112         c  ...             NaN               NaN\n",
              "1112   1113         a  ...             NaN               NaN\n",
              "1113   1114         a  ...             NaN               NaN\n",
              "1114   1115         d  ...          2012.0  Mar,Jun,Sept,Dec\n",
              "\n",
              "[5 rows x 10 columns]"
            ]
          },
          "metadata": {
            "tags": []
          },
          "execution_count": 9
        }
      ]
    },
    {
      "cell_type": "code",
      "metadata": {
        "colab": {
          "base_uri": "https://localhost:8080/"
        },
        "id": "Zh0wBKj0FWqw",
        "outputId": "11807878-7b02-4256-8356-9b53aea77fbd"
      },
      "source": [
        "df_store.dtypes ,print (\"The Store dataset has {} Rows (which means unique Shops) and {} Variables\".format(str(df_store.shape[0]),str(df_store.shape[1]))) "
      ],
      "execution_count": null,
      "outputs": [
        {
          "output_type": "stream",
          "text": [
            "The Store dataset has 1115 Rows (which means unique Shops) and 10 Variables\n"
          ],
          "name": "stdout"
        },
        {
          "output_type": "execute_result",
          "data": {
            "text/plain": [
              "(Store                          int64\n",
              " StoreType                     object\n",
              " Assortment                    object\n",
              " CompetitionDistance          float64\n",
              " CompetitionOpenSinceMonth    float64\n",
              " CompetitionOpenSinceYear     float64\n",
              " Promo2                         int64\n",
              " Promo2SinceWeek              float64\n",
              " Promo2SinceYear              float64\n",
              " PromoInterval                 object\n",
              " dtype: object, None)"
            ]
          },
          "metadata": {
            "tags": []
          },
          "execution_count": 10
        }
      ]
    },
    {
      "cell_type": "markdown",
      "metadata": {
        "id": "11g_VbmHFd3X"
      },
      "source": [
        "**Data Exploration:**\n",
        "\n",
        "How many missing fields each variable has:"
      ]
    },
    {
      "cell_type": "code",
      "metadata": {
        "colab": {
          "base_uri": "https://localhost:8080/"
        },
        "id": "2cX6_0pNFn37",
        "outputId": "0e234c70-a30a-47ed-9175-f221df039d4f"
      },
      "source": [
        "df_train.count(0)/df_train.shape[0] * 100"
      ],
      "execution_count": null,
      "outputs": [
        {
          "output_type": "execute_result",
          "data": {
            "text/plain": [
              "Store            100.0\n",
              "DayOfWeek        100.0\n",
              "Date             100.0\n",
              "Sales            100.0\n",
              "Customers        100.0\n",
              "Open             100.0\n",
              "Promo            100.0\n",
              "StateHoliday     100.0\n",
              "SchoolHoliday    100.0\n",
              "dtype: float64"
            ]
          },
          "metadata": {
            "tags": []
          },
          "execution_count": 11
        }
      ]
    },
    {
      "cell_type": "markdown",
      "metadata": {
        "id": "zeqOWikRGJev"
      },
      "source": [
        "We can see that the the columns have got a good fill rate. We don't need to do any change for the train set for now at least."
      ]
    },
    {
      "cell_type": "markdown",
      "metadata": {
        "id": "NCRpJO2xGQhs"
      },
      "source": [
        "**A closer look at the Train set:**\n",
        "\n",
        "Deep Dive on Stores Closed (which means 0 customers and 0 sales) on Certain days:"
      ]
    },
    {
      "cell_type": "code",
      "metadata": {
        "colab": {
          "base_uri": "https://localhost:8080/"
        },
        "id": "pFXoYuoKGgL5",
        "outputId": "97c73c9c-5d84-486e-b9a8-50dcc222a0d9"
      },
      "source": [
        "print ()\n",
        "print (\"-Over those two years, {} is the number of times that different stores closed on given days.\".format(df_train[(df_train.Open == 0)].count()[0]))\n",
        "print ()\n",
        "print (\"-From those closed events, {} times occured because there was a school holiday. \" .format(df_train[(df_train.Open == 0) & (df_train.SchoolHoliday == 1)&(df_train.StateHoliday == '0') ].count()[0]))\n",
        "print ()\n",
        "print (\"-And {} times it occured because of either a bank holiday or easter or christmas.\".format(df_train[(df_train.Open == 0) &\n",
        "         ((df_train.StateHoliday == 'a') |\n",
        "          (df_train.StateHoliday == 'b') | \n",
        "          (df_train.StateHoliday == 'c'))].count()[0]))\n",
        "print ()\n",
        "print (\"-But interestingly enough, {} times those shops closed on days for no apparent reason when no holiday was announced. In fact, those closings were done with no pattern whatsoever and in this case from 2013 to 2015 at almost any month and any day.\".format(df_train[(df_train.Open == 0) &\n",
        "         (df_train.StateHoliday == \"0\")\n",
        "         &(df_train.SchoolHoliday == 0)].count()[0]))\n",
        "print ()"
      ],
      "execution_count": null,
      "outputs": [
        {
          "output_type": "stream",
          "text": [
            "\n",
            "-Over those two years, 172817 is the number of times that different stores closed on given days.\n",
            "\n",
            "-From those closed events, 3067 times occured because there was a school holiday. \n",
            "\n",
            "-And 30140 times it occured because of either a bank holiday or easter or christmas.\n",
            "\n",
            "-But interestingly enough, 139610 times those shops closed on days for no apparent reason when no holiday was announced. In fact, those closings were done with no pattern whatsoever and in this case from 2013 to 2015 at almost any month and any day.\n",
            "\n"
          ],
          "name": "stdout"
        }
      ]
    },
    {
      "cell_type": "markdown",
      "metadata": {
        "id": "MrYbsdqRGmoo"
      },
      "source": [
        "**What should be done?**\n",
        "\n",
        "\n",
        "\n",
        "\n",
        "1.   After reading the descrition of the this task, Rossman clearly stated that they were undergoing refurbishments sometimes and had to close. Most probably those were the times this event was happening.\n",
        "2. since we don't want to bias our decision tree models to consider those exceptions, the best solution here is to get rid of closed stores and prevent the models to train on them and get false guidance.\n",
        "3.In this case we will analyse only open stores since a close store yield a profit of 0.   \n",
        "\n",
        "\n",
        "\n",
        "\n",
        "\n",
        "\n",
        "\n"
      ]
    },
    {
      "cell_type": "code",
      "metadata": {
        "id": "oLOkKOYNMLhJ"
      },
      "source": [
        "df_train=df_train.drop(df_train[(df_train.Open == 0) & (df_train.Sales == 0)].index)"
      ],
      "execution_count": null,
      "outputs": []
    },
    {
      "cell_type": "code",
      "metadata": {
        "id": "5Oeghzw4MRgW"
      },
      "source": [
        "df_train = df_train.reset_index(drop=True) #making sure the indexes are back to [0,1,2,3 etc.] "
      ],
      "execution_count": null,
      "outputs": []
    },
    {
      "cell_type": "code",
      "metadata": {
        "colab": {
          "base_uri": "https://localhost:8080/"
        },
        "id": "xgwQQhsJMWo2",
        "outputId": "ed794c07-3da5-4e47-9228-7933207cb333"
      },
      "source": [
        "print (\"Our new training set has now {} rows \".format(df_train.shape[0]))"
      ],
      "execution_count": null,
      "outputs": [
        {
          "output_type": "stream",
          "text": [
            "Our new training set has now 844392 rows \n"
          ],
          "name": "stdout"
        }
      ]
    },
    {
      "cell_type": "markdown",
      "metadata": {
        "id": "LVcnMhuXMd11"
      },
      "source": [
        "**What about the distribution of Sales and Customers in the train set? Any outliers?**\n",
        "\n",
        "**1) Sales:**"
      ]
    },
    {
      "cell_type": "code",
      "metadata": {
        "colab": {
          "base_uri": "https://localhost:8080/"
        },
        "id": "Hbk6m1o2Mr6N",
        "outputId": "8df84996-e473-4b1a-aa18-2bad7de9d334"
      },
      "source": [
        "df_train.Sales.describe() \n",
        "#we see here a minimum of 0 which means some stores even opened got 0 sales on some days."
      ],
      "execution_count": null,
      "outputs": [
        {
          "output_type": "execute_result",
          "data": {
            "text/plain": [
              "count    844392.000000\n",
              "mean       6955.514291\n",
              "std        3104.214680\n",
              "min           0.000000\n",
              "25%        4859.000000\n",
              "50%        6369.000000\n",
              "75%        8360.000000\n",
              "max       41551.000000\n",
              "Name: Sales, dtype: float64"
            ]
          },
          "metadata": {
            "tags": []
          },
          "execution_count": 16
        }
      ]
    },
    {
      "cell_type": "code",
      "metadata": {
        "id": "ynqKpdGqM0QI"
      },
      "source": [
        "df_train=df_train.drop(df_train[(df_train.Open == 1) & (df_train.Sales == 0)].index)\n",
        "df_train = df_train.reset_index(drop=True) "
      ],
      "execution_count": null,
      "outputs": []
    },
    {
      "cell_type": "code",
      "metadata": {
        "colab": {
          "base_uri": "https://localhost:8080/",
          "height": 271
        },
        "id": "fZgthuKhNAAC",
        "outputId": "de366081-aea4-49b6-b63c-8e0bb6e3c642"
      },
      "source": [
        "fig, axes = plt.subplots(1, 2, figsize=(17,3.5))\n",
        "axes[0].boxplot(df_train.Sales, showmeans=True,vert=False)\n",
        "axes[0].set_xlim(0,max(df_train[\"Sales\"]+1000))\n",
        "axes[0].set_title('Boxplot For Sales Values')\n",
        "axes[1].hist(df_train.Sales, cumulative=False, bins=20)\n",
        "axes[1].set_title(\"Sales histogram\")\n",
        "axes[1].set_xlim((min(df_train.Sales), max(df_train.Sales)))\n",
        "\n",
        "{\"Mean\":np.mean(df_train.Sales),\"Median\":np.median(df_train.Sales)}"
      ],
      "execution_count": null,
      "outputs": [
        {
          "output_type": "execute_result",
          "data": {
            "text/plain": [
              "{'Mean': 6955.959133664481, 'Median': 6369.0}"
            ]
          },
          "metadata": {
            "tags": []
          },
          "execution_count": 18
        },
        {
          "output_type": "display_data",
          "data": {
            "image/png": "[encoded data removed]",
            "text/plain": [
              "<Figure size 1224x252 with 2 Axes>"
            ]
          },
          "metadata": {
            "tags": [],
            "needs_background": "light"
          }
        }
      ]
    },
    {
      "cell_type": "code",
      "metadata": {
        "colab": {
          "base_uri": "https://localhost:8080/"
        },
        "id": "Z1ktWICqNB_h",
        "outputId": "0ad74c97-daba-4acb-dd64-4def280d9c90"
      },
      "source": [
        "print (\"{0:.2f}% of the time Rossman are actually having big sales day (considered outliers).\".format(df_train[df_train.Sales>14000].count()[0]/df_train.shape[0]*100))\n",
        "print (\"{0:.2f}% of the time Rossman are actually having no sales at all.\".format(df_train[df_train.Sales==0].count()[0]/df_train.shape[0]*100))"
      ],
      "execution_count": null,
      "outputs": [
        {
          "output_type": "stream",
          "text": [
            "3.21% of the time Rossman are actually having big sales day (considered outliers).\n",
            "0.00% of the time Rossman are actually having no sales at all.\n"
          ],
          "name": "stdout"
        }
      ]
    },
    {
      "cell_type": "markdown",
      "metadata": {
        "id": "mB-FO0pWNIdJ"
      },
      "source": [
        "**Findings:**\n",
        "\n",
        "\n",
        "\n",
        "*   Some exceptions (the outliers) in the boxplot had to be checked to see if it's wrong inputted data but it turns out this big amount of sales on certain days is explained by either promotional purposes,the type of the store being big and popular or just not having near enough competition and being the monopoly in its region. (Charts will come in the analysis section of the train and store dataset when merged).\n",
        "*   Concerning the 0 of the time having 0 sales.it represented before removing them a tiny amount of the train set(0.01%), those values can affect further calculation of metrics and bias and are not to be taken into account. Those cases could happen for some shops, probably due to external events affecting it.( an incident, a manifestation etc.)\n",
        "*   An important metric to always check when looking at a distribution is how the mean compares to the median and how close are they from each other. As we see here a mean of 6955 versus 6369 in median is a very good sign that there are no extravagant values affecting the general distribution of Sales.\n",
        "\n"
      ]
    },
    {
      "cell_type": "code",
      "metadata": {
        "colab": {
          "base_uri": "https://localhost:8080/"
        },
        "id": "XX19CIF4NZA6",
        "outputId": "9253ea48-e7ea-4eb9-9206-f9d24dae81cd"
      },
      "source": [
        "df_train.Customers.describe() "
      ],
      "execution_count": null,
      "outputs": [
        {
          "output_type": "execute_result",
          "data": {
            "text/plain": [
              "count    844338.000000\n",
              "mean        762.777166\n",
              "std         401.194153\n",
              "min           8.000000\n",
              "25%         519.000000\n",
              "50%         676.000000\n",
              "75%         893.000000\n",
              "max        7388.000000\n",
              "Name: Customers, dtype: float64"
            ]
          },
          "metadata": {
            "tags": []
          },
          "execution_count": 20
        }
      ]
    },
    {
      "cell_type": "code",
      "metadata": {
        "colab": {
          "base_uri": "https://localhost:8080/",
          "height": 271
        },
        "id": "x1MHsMlTNhJp",
        "outputId": "c3268010-efba-4a74-a7a9-57be09aac891"
      },
      "source": [
        "fig, axes = plt.subplots(1, 2, figsize=(17,3.5))\n",
        "axes[0].boxplot(df_train.Customers, showmeans=True,vert=False)\n",
        "axes[0].set_xlim(0,max(df_train[\"Customers\"]+100))\n",
        "axes[0].set_title('Boxplot For Customer Values')\n",
        "axes[1].hist(df_train.Customers, cumulative=False, bins=20)\n",
        "axes[1].set_title(\"Customers histogram\")\n",
        "axes[1].set_xlim((min(df_train.Customers), max(df_train.Customers)))\n",
        "\n",
        "{\"Mean\":np.mean(df_train.Customers),\"Median\":np.median(df_train.Customers)}"
      ],
      "execution_count": null,
      "outputs": [
        {
          "output_type": "execute_result",
          "data": {
            "text/plain": [
              "{'Mean': 762.777166253325, 'Median': 676.0}"
            ]
          },
          "metadata": {
            "tags": []
          },
          "execution_count": 21
        },
        {
          "output_type": "display_data",
          "data": {
            "image/png": "[encoded data removed]",
            "text/plain": [
              "<Figure size 1224x252 with 2 Axes>"
            ]
          },
          "metadata": {
            "tags": [],
            "needs_background": "light"
          }
        }
      ]
    },
    {
      "cell_type": "code",
      "metadata": {
        "colab": {
          "base_uri": "https://localhost:8080/"
        },
        "id": "zOZMrePENlgx",
        "outputId": "20d0e142-9273-4b6a-b182-feef4a7111f7"
      },
      "source": [
        "print (\"{0:.2f}% of the time Rossman are actually having customers more than usual (considered outliers).\".format(df_train[df_train.Customers>1500].count()[0]/df_train.shape[0]*100))\n",
        "print (\"{0:.2f}% of the time Rossman are actually having no customers at all.\".format(df_train[df_train.Customers==0].count()[0]/df_train.shape[0]*100))"
      ],
      "execution_count": null,
      "outputs": [
        {
          "output_type": "stream",
          "text": [
            "4.37% of the time Rossman are actually having customers more than usual (considered outliers).\n",
            "0.00% of the time Rossman are actually having no customers at all.\n"
          ],
          "name": "stdout"
        }
      ]
    },
    {
      "cell_type": "code",
      "metadata": {
        "colab": {
          "base_uri": "https://localhost:8080/",
          "height": 78
        },
        "id": "wPaUyjwYNoVx",
        "outputId": "ed919c6e-2344-4749-c8ad-a2c9f827c5b4"
      },
      "source": [
        "df_train[df_train.Customers>7000]"
      ],
      "execution_count": null,
      "outputs": [
        {
          "output_type": "execute_result",
          "data": {
            "text/html": [
              "<div>\n",
              "<style scoped>\n",
              "    .dataframe tbody tr th:only-of-type {\n",
              "        vertical-align: middle;\n",
              "    }\n",
              "\n",
              "    .dataframe tbody tr th {\n",
              "        vertical-align: top;\n",
              "    }\n",
              "\n",
              "    .dataframe thead th {\n",
              "        text-align: right;\n",
              "    }\n",
              "</style>\n",
              "<table border=\"1\" class=\"dataframe\">\n",
              "  <thead>\n",
              "    <tr style=\"text-align: right;\">\n",
              "      <th></th>\n",
              "      <th>Store</th>\n",
              "      <th>DayOfWeek</th>\n",
              "      <th>Date</th>\n",
              "      <th>Sales</th>\n",
              "      <th>Customers</th>\n",
              "      <th>Open</th>\n",
              "      <th>Promo</th>\n",
              "      <th>StateHoliday</th>\n",
              "      <th>SchoolHoliday</th>\n",
              "    </tr>\n",
              "  </thead>\n",
              "  <tbody>\n",
              "    <tr>\n",
              "      <th>825160</th>\n",
              "      <td>817</td>\n",
              "      <td>2</td>\n",
              "      <td>2013-01-22</td>\n",
              "      <td>27190</td>\n",
              "      <td>7388</td>\n",
              "      <td>1</td>\n",
              "      <td>1</td>\n",
              "      <td>0</td>\n",
              "      <td>0</td>\n",
              "    </tr>\n",
              "  </tbody>\n",
              "</table>\n",
              "</div>"
            ],
            "text/plain": [
              "        Store  DayOfWeek       Date  ...  Promo  StateHoliday  SchoolHoliday\n",
              "825160    817          2 2013-01-22  ...      1             0              0\n",
              "\n",
              "[1 rows x 9 columns]"
            ]
          },
          "metadata": {
            "tags": []
          },
          "execution_count": 23
        }
      ]
    },
    {
      "cell_type": "code",
      "metadata": {
        "colab": {
          "base_uri": "https://localhost:8080/"
        },
        "id": "83HJJeBWNsMS",
        "outputId": "22fcd0a7-1916-4e80-91b5-45762a0d492d"
      },
      "source": [
        "stats.pearsonr(df_train.Customers, df_train.Sales)[0]"
      ],
      "execution_count": null,
      "outputs": [
        {
          "output_type": "execute_result",
          "data": {
            "text/plain": [
              "0.8235517202000218"
            ]
          },
          "metadata": {
            "tags": []
          },
          "execution_count": 24
        }
      ]
    },
    {
      "cell_type": "markdown",
      "metadata": {
        "id": "lLjxshgsNxAx"
      },
      "source": [
        "**Findings:**\n",
        "\n",
        "*  We can see similair patterns with the customers column and the Sales column, in fact our pearson correlation factor of 0.82 explains that there is a strong positive correlation between Sales and Customers. In general, the more customers you have in a store, the higher your sales for the day.\n",
        "\n",
        "*  We see that on a specific day there was a huge amount of customers in a store,this was due to a big promotion going on. Those specific values are affecting the mean which concludes the difference between a mean of 762 and a median of 676.\n",
        "\n",
        "*  We observe a right skewness in both distributions because of the low number of outliers but the high representation of each outlier alone which pushes the distribution to the lefta as seen in both histograms.This typically occurs when the mean is higher than the median.\n",
        "\n",
        "**A closer look at the Store Dataset:**"
      ]
    },
    {
      "cell_type": "code",
      "metadata": {
        "colab": {
          "base_uri": "https://localhost:8080/"
        },
        "id": "Qu4aXTaGOI0q",
        "outputId": "d6397cb6-59fa-430a-c9b2-ba916ea9e956"
      },
      "source": [
        "df_store.count(0)/df_store.shape[0] * 100"
      ],
      "execution_count": null,
      "outputs": [
        {
          "output_type": "execute_result",
          "data": {
            "text/plain": [
              "Store                        100.000000\n",
              "StoreType                    100.000000\n",
              "Assortment                   100.000000\n",
              "CompetitionDistance           99.730942\n",
              "CompetitionOpenSinceMonth     68.251121\n",
              "CompetitionOpenSinceYear      68.251121\n",
              "Promo2                       100.000000\n",
              "Promo2SinceWeek               51.210762\n",
              "Promo2SinceYear               51.210762\n",
              "PromoInterval                 51.210762\n",
              "dtype: float64"
            ]
          },
          "metadata": {
            "tags": []
          },
          "execution_count": 25
        }
      ]
    },
    {
      "cell_type": "markdown",
      "metadata": {
        "id": "65T_1v95OMZC"
      },
      "source": [
        "**Findings:**\n",
        "\n",
        "*  The Promo2SinceWeek,Promo2SinceYear and PromoInterval variables has 51% fill rate since they are actually NULL values because there are no continuous promotion for those stores.\n",
        "\n",
        "*  Instead for CompetitionOpenSinceMonth and CompetitionOpenSinceYear, it's basically missing data that we're dealing with here (68.25% fill rate), this means that we have the nearest distance of the competitor but miss the date information on when did he actually opened next to the Rossman store.\n",
        "\n",
        "\n",
        "**Let's start the cleansing process by order:**\n",
        "\n",
        "1) CompetitionDistance:"
      ]
    },
    {
      "cell_type": "code",
      "metadata": {
        "colab": {
          "base_uri": "https://localhost:8080/",
          "height": 141
        },
        "id": "3UF7wM68OeEp",
        "outputId": "4f1587e0-7974-4047-cee8-2156b3d1c9bd"
      },
      "source": [
        "df_store[pd.isnull(df_store.CompetitionDistance)] \n",
        "#rows with missing values for Competition Distance, only 3 rows with null which makes sense since 99.73% is filled"
      ],
      "execution_count": null,
      "outputs": [
        {
          "output_type": "execute_result",
          "data": {
            "text/html": [
              "<div>\n",
              "<style scoped>\n",
              "    .dataframe tbody tr th:only-of-type {\n",
              "        vertical-align: middle;\n",
              "    }\n",
              "\n",
              "    .dataframe tbody tr th {\n",
              "        vertical-align: top;\n",
              "    }\n",
              "\n",
              "    .dataframe thead th {\n",
              "        text-align: right;\n",
              "    }\n",
              "</style>\n",
              "<table border=\"1\" class=\"dataframe\">\n",
              "  <thead>\n",
              "    <tr style=\"text-align: right;\">\n",
              "      <th></th>\n",
              "      <th>Store</th>\n",
              "      <th>StoreType</th>\n",
              "      <th>Assortment</th>\n",
              "      <th>CompetitionDistance</th>\n",
              "      <th>CompetitionOpenSinceMonth</th>\n",
              "      <th>CompetitionOpenSinceYear</th>\n",
              "      <th>Promo2</th>\n",
              "      <th>Promo2SinceWeek</th>\n",
              "      <th>Promo2SinceYear</th>\n",
              "      <th>PromoInterval</th>\n",
              "    </tr>\n",
              "  </thead>\n",
              "  <tbody>\n",
              "    <tr>\n",
              "      <th>290</th>\n",
              "      <td>291</td>\n",
              "      <td>d</td>\n",
              "      <td>a</td>\n",
              "      <td>NaN</td>\n",
              "      <td>NaN</td>\n",
              "      <td>NaN</td>\n",
              "      <td>0</td>\n",
              "      <td>NaN</td>\n",
              "      <td>NaN</td>\n",
              "      <td>NaN</td>\n",
              "    </tr>\n",
              "    <tr>\n",
              "      <th>621</th>\n",
              "      <td>622</td>\n",
              "      <td>a</td>\n",
              "      <td>c</td>\n",
              "      <td>NaN</td>\n",
              "      <td>NaN</td>\n",
              "      <td>NaN</td>\n",
              "      <td>0</td>\n",
              "      <td>NaN</td>\n",
              "      <td>NaN</td>\n",
              "      <td>NaN</td>\n",
              "    </tr>\n",
              "    <tr>\n",
              "      <th>878</th>\n",
              "      <td>879</td>\n",
              "      <td>d</td>\n",
              "      <td>a</td>\n",
              "      <td>NaN</td>\n",
              "      <td>NaN</td>\n",
              "      <td>NaN</td>\n",
              "      <td>1</td>\n",
              "      <td>5.0</td>\n",
              "      <td>2013.0</td>\n",
              "      <td>Feb,May,Aug,Nov</td>\n",
              "    </tr>\n",
              "  </tbody>\n",
              "</table>\n",
              "</div>"
            ],
            "text/plain": [
              "     Store StoreType  ... Promo2SinceYear    PromoInterval\n",
              "290    291         d  ...             NaN              NaN\n",
              "621    622         a  ...             NaN              NaN\n",
              "878    879         d  ...          2013.0  Feb,May,Aug,Nov\n",
              "\n",
              "[3 rows x 10 columns]"
            ]
          },
          "metadata": {
            "tags": []
          },
          "execution_count": 26
        }
      ]
    },
    {
      "cell_type": "markdown",
      "metadata": {
        "id": "THm4zj1jOiQR"
      },
      "source": [
        "*  Before deciding how to treat this,we know there are infinite ways of filling missing values.\n",
        "\n",
        "* The most common and simplistic approach is to fill it with either the mean or the median of this variable.\n",
        "*  Let's quickly have a look at those metrics."
      ]
    },
    {
      "cell_type": "code",
      "metadata": {
        "colab": {
          "base_uri": "https://localhost:8080/",
          "height": 304
        },
        "id": "KsCFeXrSOuqp",
        "outputId": "a097f24a-52cb-45f5-e041-e2bc9fd0a9bd"
      },
      "source": [
        "df_store_check_distribution=df_store.drop(df_store[pd.isnull(df_store.CompetitionDistance)].index)\n",
        "fig, axes = plt.subplots(1, 2, figsize=(17,3.5))\n",
        "axes[0].boxplot(df_store_check_distribution.CompetitionDistance, showmeans=True,vert=False,)\n",
        "axes[0].set_xlim(0,max(df_store_check_distribution.CompetitionDistance+1000))\n",
        "axes[0].set_title('Boxplot For Closest Competition')\n",
        "axes[1].hist(df_store_check_distribution.CompetitionDistance, cumulative=False, bins=30)\n",
        "axes[1].set_title(\"Closest Competition histogram\")\n",
        "axes[1].set_xlim((min(df_store_check_distribution.CompetitionDistance), max(df_store_check_distribution.CompetitionDistance)))\n",
        "{\"Mean\":np.nanmean(df_store.CompetitionDistance),\"Median\":np.nanmedian(df_store.CompetitionDistance),\"Standard Dev\":np.nanstd(df_store.CompetitionDistance)}#That's what i thought, very different values, let's see why "
      ],
      "execution_count": null,
      "outputs": [
        {
          "output_type": "execute_result",
          "data": {
            "text/plain": [
              "{'Mean': 5404.901079136691,\n",
              " 'Median': 2325.0,\n",
              " 'Standard Dev': 7659.7282732764415}"
            ]
          },
          "metadata": {
            "tags": []
          },
          "execution_count": 27
        },
        {
          "output_type": "display_data",
          "data": {
            "image/png": "[encoded data removed]",
            "text/plain": [
              "<Figure size 1224x252 with 2 Axes>"
            ]
          },
          "metadata": {
            "tags": [],
            "needs_background": "light"
          }
        }
      ]
    },
    {
      "cell_type": "markdown",
      "metadata": {
        "id": "I52f5EG6Ozdh"
      },
      "source": [
        "We see a highly right skewed distribution for this variable with a significant difference between the mean and the median. This being caused by the amount of disperness in the data with a standard deviation of 7659, higher than the mean and the median.\n",
        "\n",
        "**Solution:**\n",
        "\n",
        "*  It is realistically better to input the median value to the three Nan stores then the mean since the mean is biased by those outliers."
      ]
    },
    {
      "cell_type": "code",
      "metadata": {
        "id": "y-eATl7hO63Z"
      },
      "source": [
        "df_store['CompetitionDistance'].fillna(df_store['CompetitionDistance'].median(), inplace = True)"
      ],
      "execution_count": null,
      "outputs": []
    },
    {
      "cell_type": "markdown",
      "metadata": {
        "id": "uFQOkgGpPD7J"
      },
      "source": [
        "2) CompetitionOpenSinceMonth and CompetitionOpenSinceYear?\n",
        "\n",
        "*  Since we have no information whatsoever on those missing values and no accurate way of filling those values.\n",
        "\n",
        "*  A creative way could be to apply a multilabel classification algorithm and train on the non Nan fields and then predict what could be most probably the month and year for those fields. But this approach is computationally too long.\n",
        "\n",
        "*  So for this purpose those fields are going to be assigned to 0 ."
      ]
    },
    {
      "cell_type": "code",
      "metadata": {
        "id": "_g4UwqKDPO-h"
      },
      "source": [
        "df_store.CompetitionOpenSinceMonth.fillna(0, inplace = True)\n",
        "df_store.CompetitionOpenSinceYear.fillna(0,inplace=True)"
      ],
      "execution_count": null,
      "outputs": []
    },
    {
      "cell_type": "markdown",
      "metadata": {
        "id": "Q3G2vGCvPSIa"
      },
      "source": [
        "3) Promo2SinceWeek, Promo2SinceYear and PromoInterval ?"
      ]
    },
    {
      "cell_type": "code",
      "metadata": {
        "id": "b2B6BOGWPXIp"
      },
      "source": [
        "#df_store[pd.isnull(df_store.Promo2SinceWeek)]\n",
        "#df_store[pd.isnull(df_store.Promo2SinceWeek)& (df_store.Promo2==0)]"
      ],
      "execution_count": null,
      "outputs": []
    },
    {
      "cell_type": "markdown",
      "metadata": {
        "id": "GU-qePlXPaib"
      },
      "source": [
        "**Findings:**\n",
        "\n",
        "*  This case is pretty straighforward, all the missing values comes from fields where Promo2=0 which means there are no continuous promotional activities for those stores.\n",
        "\n",
        "*  Having no promotion means those fields have to be 0 as well since they are linked to Promo2.\n",
        "\n"
      ]
    },
    {
      "cell_type": "code",
      "metadata": {
        "id": "7uC0zEesPkAB"
      },
      "source": [
        "df_store.Promo2SinceWeek.fillna(0,inplace=True)\n",
        "df_store.Promo2SinceYear.fillna(0,inplace=True)\n",
        "df_store.PromoInterval.fillna(0,inplace=True)"
      ],
      "execution_count": null,
      "outputs": []
    },
    {
      "cell_type": "code",
      "metadata": {
        "colab": {
          "base_uri": "https://localhost:8080/"
        },
        "id": "sRTAmLrkPnBy",
        "outputId": "598ef274-4502-44ad-a03a-ad6c29e13bba"
      },
      "source": [
        "df_store.count(0)/df_store.shape[0] * 100"
      ],
      "execution_count": null,
      "outputs": [
        {
          "output_type": "execute_result",
          "data": {
            "text/plain": [
              "Store                        100.0\n",
              "StoreType                    100.0\n",
              "Assortment                   100.0\n",
              "CompetitionDistance          100.0\n",
              "CompetitionOpenSinceMonth    100.0\n",
              "CompetitionOpenSinceYear     100.0\n",
              "Promo2                       100.0\n",
              "Promo2SinceWeek              100.0\n",
              "Promo2SinceYear              100.0\n",
              "PromoInterval                100.0\n",
              "dtype: float64"
            ]
          },
          "metadata": {
            "tags": []
          },
          "execution_count": 31
        }
      ]
    },
    {
      "cell_type": "markdown",
      "metadata": {
        "id": "7wdTcOFvPrnb"
      },
      "source": [
        "Now that we are done with clearing missing values, let's merge the two datasets."
      ]
    },
    {
      "cell_type": "code",
      "metadata": {
        "colab": {
          "base_uri": "https://localhost:8080/"
        },
        "id": "eHhg0uXTPvI6",
        "outputId": "00dedea8-188f-4eb5-838a-b92f65932bf7"
      },
      "source": [
        "#Left-join the train to the store dataset since .Why?\n",
        "#Because you want to make sure you have all events even if some of them don't have their store information ( which shouldn't happen)\n",
        "df_train_store = pd.merge(df_train, df_store, how = 'left', on = 'Store')\n",
        "df_train_store.head() \n",
        "print (\"The Train_Store dataset has {} Rows and {} Variables\".format(str(df_train_store.shape[0]),str(df_train_store.shape[1]))) "
      ],
      "execution_count": null,
      "outputs": [
        {
          "output_type": "stream",
          "text": [
            "The Train_Store dataset has 844338 Rows and 18 Variables\n"
          ],
          "name": "stdout"
        }
      ]
    },
    {
      "cell_type": "markdown",
      "metadata": {
        "id": "SvkJ3AcaPyWi"
      },
      "source": [
        "**Store Type Analysis:**\n",
        "\n",
        "The best way to asses the performance of a store type is to see what is the sales per customer so that we normalize everything and we get the store that makes its customers spend the most on average.\n",
        "\n",
        "Let's compare first the total sales of each store type, its average sales and then see how it changes when we add the customers to the equation:"
      ]
    },
    {
      "cell_type": "code",
      "metadata": {
        "id": "UmoJ2QPIP7XM"
      },
      "source": [
        "df_train_store['SalesperCustomer']=df_train_store['Sales']/df_train_store['Customers']"
      ],
      "execution_count": null,
      "outputs": []
    },
    {
      "cell_type": "code",
      "metadata": {
        "colab": {
          "base_uri": "https://localhost:8080/",
          "height": 305
        },
        "id": "4muBZzTMP99q",
        "outputId": "4e6a02a0-e7ca-4387-b610-61bf823d1fdc"
      },
      "source": [
        "df_train_store.head()"
      ],
      "execution_count": null,
      "outputs": [
        {
          "output_type": "execute_result",
          "data": {
            "text/html": [
              "<div>\n",
              "<style scoped>\n",
              "    .dataframe tbody tr th:only-of-type {\n",
              "        vertical-align: middle;\n",
              "    }\n",
              "\n",
              "    .dataframe tbody tr th {\n",
              "        vertical-align: top;\n",
              "    }\n",
              "\n",
              "    .dataframe thead th {\n",
              "        text-align: right;\n",
              "    }\n",
              "</style>\n",
              "<table border=\"1\" class=\"dataframe\">\n",
              "  <thead>\n",
              "    <tr style=\"text-align: right;\">\n",
              "      <th></th>\n",
              "      <th>Store</th>\n",
              "      <th>DayOfWeek</th>\n",
              "      <th>Date</th>\n",
              "      <th>Sales</th>\n",
              "      <th>Customers</th>\n",
              "      <th>Open</th>\n",
              "      <th>Promo</th>\n",
              "      <th>StateHoliday</th>\n",
              "      <th>SchoolHoliday</th>\n",
              "      <th>StoreType</th>\n",
              "      <th>Assortment</th>\n",
              "      <th>CompetitionDistance</th>\n",
              "      <th>CompetitionOpenSinceMonth</th>\n",
              "      <th>CompetitionOpenSinceYear</th>\n",
              "      <th>Promo2</th>\n",
              "      <th>Promo2SinceWeek</th>\n",
              "      <th>Promo2SinceYear</th>\n",
              "      <th>PromoInterval</th>\n",
              "      <th>SalesperCustomer</th>\n",
              "    </tr>\n",
              "  </thead>\n",
              "  <tbody>\n",
              "    <tr>\n",
              "      <th>0</th>\n",
              "      <td>1</td>\n",
              "      <td>5</td>\n",
              "      <td>2015-07-31</td>\n",
              "      <td>5263</td>\n",
              "      <td>555</td>\n",
              "      <td>1</td>\n",
              "      <td>1</td>\n",
              "      <td>0</td>\n",
              "      <td>1</td>\n",
              "      <td>c</td>\n",
              "      <td>a</td>\n",
              "      <td>1270.0</td>\n",
              "      <td>9.0</td>\n",
              "      <td>2008.0</td>\n",
              "      <td>0</td>\n",
              "      <td>0.0</td>\n",
              "      <td>0.0</td>\n",
              "      <td>0</td>\n",
              "      <td>9.482883</td>\n",
              "    </tr>\n",
              "    <tr>\n",
              "      <th>1</th>\n",
              "      <td>2</td>\n",
              "      <td>5</td>\n",
              "      <td>2015-07-31</td>\n",
              "      <td>6064</td>\n",
              "      <td>625</td>\n",
              "      <td>1</td>\n",
              "      <td>1</td>\n",
              "      <td>0</td>\n",
              "      <td>1</td>\n",
              "      <td>a</td>\n",
              "      <td>a</td>\n",
              "      <td>570.0</td>\n",
              "      <td>11.0</td>\n",
              "      <td>2007.0</td>\n",
              "      <td>1</td>\n",
              "      <td>13.0</td>\n",
              "      <td>2010.0</td>\n",
              "      <td>Jan,Apr,Jul,Oct</td>\n",
              "      <td>9.702400</td>\n",
              "    </tr>\n",
              "    <tr>\n",
              "      <th>2</th>\n",
              "      <td>3</td>\n",
              "      <td>5</td>\n",
              "      <td>2015-07-31</td>\n",
              "      <td>8314</td>\n",
              "      <td>821</td>\n",
              "      <td>1</td>\n",
              "      <td>1</td>\n",
              "      <td>0</td>\n",
              "      <td>1</td>\n",
              "      <td>a</td>\n",
              "      <td>a</td>\n",
              "      <td>14130.0</td>\n",
              "      <td>12.0</td>\n",
              "      <td>2006.0</td>\n",
              "      <td>1</td>\n",
              "      <td>14.0</td>\n",
              "      <td>2011.0</td>\n",
              "      <td>Jan,Apr,Jul,Oct</td>\n",
              "      <td>10.126675</td>\n",
              "    </tr>\n",
              "    <tr>\n",
              "      <th>3</th>\n",
              "      <td>4</td>\n",
              "      <td>5</td>\n",
              "      <td>2015-07-31</td>\n",
              "      <td>13995</td>\n",
              "      <td>1498</td>\n",
              "      <td>1</td>\n",
              "      <td>1</td>\n",
              "      <td>0</td>\n",
              "      <td>1</td>\n",
              "      <td>c</td>\n",
              "      <td>c</td>\n",
              "      <td>620.0</td>\n",
              "      <td>9.0</td>\n",
              "      <td>2009.0</td>\n",
              "      <td>0</td>\n",
              "      <td>0.0</td>\n",
              "      <td>0.0</td>\n",
              "      <td>0</td>\n",
              "      <td>9.342457</td>\n",
              "    </tr>\n",
              "    <tr>\n",
              "      <th>4</th>\n",
              "      <td>5</td>\n",
              "      <td>5</td>\n",
              "      <td>2015-07-31</td>\n",
              "      <td>4822</td>\n",
              "      <td>559</td>\n",
              "      <td>1</td>\n",
              "      <td>1</td>\n",
              "      <td>0</td>\n",
              "      <td>1</td>\n",
              "      <td>a</td>\n",
              "      <td>a</td>\n",
              "      <td>29910.0</td>\n",
              "      <td>4.0</td>\n",
              "      <td>2015.0</td>\n",
              "      <td>0</td>\n",
              "      <td>0.0</td>\n",
              "      <td>0.0</td>\n",
              "      <td>0</td>\n",
              "      <td>8.626118</td>\n",
              "    </tr>\n",
              "  </tbody>\n",
              "</table>\n",
              "</div>"
            ],
            "text/plain": [
              "   Store  DayOfWeek  ...    PromoInterval  SalesperCustomer\n",
              "0      1          5  ...                0          9.482883\n",
              "1      2          5  ...  Jan,Apr,Jul,Oct          9.702400\n",
              "2      3          5  ...  Jan,Apr,Jul,Oct         10.126675\n",
              "3      4          5  ...                0          9.342457\n",
              "4      5          5  ...                0          8.626118\n",
              "\n",
              "[5 rows x 19 columns]"
            ]
          },
          "metadata": {
            "tags": []
          },
          "execution_count": 34
        }
      ]
    },
    {
      "cell_type": "code",
      "metadata": {
        "colab": {
          "base_uri": "https://localhost:8080/",
          "height": 623
        },
        "id": "2TmuBr-pQFkC",
        "outputId": "99cf069f-66ec-4bf9-882c-67b2422d4502"
      },
      "source": [
        "fig, axes = plt.subplots(2, 3,figsize=(17,10) )\n",
        "palette = itertools.cycle(sns.color_palette(n_colors=4))\n",
        "plt.subplots_adjust(hspace = 0.28)\n",
        "#axes[1].df_train_store.groupby(by=\"StoreType\").count().Store.plot(kind='bar')\n",
        "axes[0,0].bar(df_store.groupby(by=\"StoreType\").count().Store.index,df_store.groupby(by=\"StoreType\").count().Store,color=[next(palette),next(palette),next(palette),next(palette)])\n",
        "axes[0,0].set_title(\"Number of Stores per Store Type \\n Fig 1.1\")\n",
        "axes[0,1].bar(df_train_store.groupby(by=\"StoreType\").sum().Sales.index,df_train_store.groupby(by=\"StoreType\").sum().Sales/1e9,color=[next(palette),next(palette),next(palette),next(palette)])\n",
        "axes[0,1].set_title(\"Total Sales per Store Type (in Billions) \\n Fig 1.2\")\n",
        "axes[0,2].bar(df_train_store.groupby(by=\"StoreType\").sum().Customers.index,df_train_store.groupby(by=\"StoreType\").sum().Customers/1e6,color=[next(palette),next(palette),next(palette),next(palette)])\n",
        "axes[0,2].set_title(\"Total Number of Customers per Store Type (in Millions) \\n Fig 1.3\")\n",
        "axes[1,0].bar(df_train_store.groupby(by=\"StoreType\").sum().Customers.index,df_train_store.groupby(by=\"StoreType\").Sales.mean(),color=[next(palette),next(palette),next(palette),next(palette)])\n",
        "axes[1,0].set_title(\"Average Sales per Store Type \\n Fig 1.4\")\n",
        "axes[1,1].bar(df_train_store.groupby(by=\"StoreType\").sum().Customers.index,df_train_store.groupby(by=\"StoreType\").Customers.mean(),color=[next(palette),next(palette),next(palette),next(palette)])\n",
        "axes[1,1].set_title(\"Average Number of Customers per Store Type \\n Fig 1.5\")\n",
        "axes[1,2].bar(df_train_store.groupby(by=\"StoreType\").sum().Sales.index,df_train_store.groupby(by=\"StoreType\").SalesperCustomer.mean(),color=[next(palette),next(palette),next(palette),next(palette)])\n",
        "axes[1,2].set_title(\"Average Spending per Customer in each Store Type \\n Fig 1.6\")\n",
        "plt.show()"
      ],
      "execution_count": null,
      "outputs": [
        {
          "output_type": "display_data",
          "data": {
            "image/png": "[encoded data removed]",
            "text/plain": [
              "<Figure size 1224x720 with 6 Axes>"
            ]
          },
          "metadata": {
            "tags": [],
            "needs_background": "light"
          }
        }
      ]
    },
    {
      "cell_type": "markdown",
      "metadata": {
        "id": "9PauekoxQJga"
      },
      "source": [
        "**Findings:**\n",
        "\n",
        "*  From this training set we can see that Storetype A has the highest number of branches,sales and customers from the 4 different storetypes. But this doesn't mean it's the best performing Storetype.\n",
        "\n",
        "*  When looking at the average sales and number of customers, we see that actually it is Storetype B who was the highest average Sales and highest average Number of Customers. One assumption could be that if B has only 17 stores but such a high amount of average sales and customers that it is likely hyper Rossman branches whereas A would be smaller in size but much more present.\n",
        "\n",
        "*  Surprisingly it is StoreType D who has the highest average spending per Customer, this is probably explained by an average competition distance higher than ther rest which means each customer will buy more since he knows there isn't a lot of similair shops around.\n",
        "\n",
        "*  What would help us understand better what's happening is to look for other variables explaining this behaviour like Assortments, Comeptition and Promotions.\n",
        "\n",
        "**Assortments:**\n",
        "\n",
        "As we cited in the description, assortments have three types and each store has a defined type and assortment type:\n",
        "\n",
        "*  a means basic things\n",
        "*  b means extra things\n",
        "*  c means extended things so the highest variety of products.\n",
        "\n",
        "What could be interesting is to see the relationship between a store type and its respective assortment type."
      ]
    },
    {
      "cell_type": "code",
      "metadata": {
        "colab": {
          "base_uri": "https://localhost:8080/",
          "height": 477
        },
        "id": "RHONOcQAQ74E",
        "outputId": "a4bee44e-05b2-44ad-999a-7fcd3e62a73a"
      },
      "source": [
        "StoretypeXAssortment = sns.countplot(x=\"StoreType\",hue=\"Assortment\",order=[\"a\",\"b\",\"c\",\"d\"], data=df_store,palette=sns.color_palette(\"Set2\", n_colors=3)).set_title(\"Number of Different Assortments per Store Type\")\n",
        "df_store.groupby(by=[\"StoreType\",\"Assortment\"]).Assortment.count()"
      ],
      "execution_count": null,
      "outputs": [
        {
          "output_type": "execute_result",
          "data": {
            "text/plain": [
              "StoreType  Assortment\n",
              "a          a             381\n",
              "           c             221\n",
              "b          a               7\n",
              "           b               9\n",
              "           c               1\n",
              "c          a              77\n",
              "           c              71\n",
              "d          a             128\n",
              "           c             220\n",
              "Name: Assortment, dtype: int64"
            ]
          },
          "metadata": {
            "tags": []
          },
          "execution_count": 36
        },
        {
          "output_type": "display_data",
          "data": {
            "image/png": "[encoded data removed]",
            "text/plain": [
              "<Figure size 432x288 with 1 Axes>"
            ]
          },
          "metadata": {
            "tags": [],
            "needs_background": "light"
          }
        }
      ]
    },
    {
      "cell_type": "markdown",
      "metadata": {
        "id": "_TLnOc2HSTsS"
      },
      "source": [
        "**Findings:**\n",
        "\n",
        "*  We can clearly see here that most of the stores have either a assortment type or c assortment type.\n",
        "\n",
        "*  Interestingly enough StoreType d which has the highest Sales per customer average actually has mostly c assortment type, this is most probably the reason for having this high average in Sales per customer.Having variery in stores always increases the customers spending pattern.\n",
        "\n",
        "*  Another important factor here is the fact that store type b is the only one who has the b assortment type and a lot of them actually which stands for \"extra\" and by looking at fig 1.4 and 1.5 he's the one who has the highest number of customers and sales. Probably this formula of extra is the right middlepoint for customers between not too much variety like C assortment and not too basic like A assortment and this is what is driving the high traffic in this store.\n",
        "\n",
        "**Promotion:**\n",
        "\n",
        "Let's see how Promotion affect the overall sales of Rossman by looking at when there is and when there isn't promotion over those 3 years. This allow us first to see the impact of promotion and as well to see the evolution of sales over specific years (so trends in a given year) and the gradual increase in sales from 2013 to 2015:"
      ]
    },
    {
      "cell_type": "code",
      "metadata": {
        "id": "tjj3O2YySkcr"
      },
      "source": [
        "df_train_store['Month']=df_train_store.Date.dt.month\n",
        "df_train_store['Year']=df_train_store.Date.dt.year"
      ],
      "execution_count": null,
      "outputs": []
    },
    {
      "cell_type": "code",
      "metadata": {
        "colab": {
          "base_uri": "https://localhost:8080/",
          "height": 1000
        },
        "id": "-jFSHjhWSnVz",
        "outputId": "82080369-0ec7-4107-8933-4d90d95bb2c0"
      },
      "source": [
        "sns.factorplot(data = df_train_store, x =\"Month\", y = \"Sales\", \n",
        "               col = 'Promo', # per store type in cols\n",
        "               hue = 'Promo2',\n",
        "               row = \"Year\"\n",
        "              ,sharex=False)"
      ],
      "execution_count": null,
      "outputs": [
        {
          "output_type": "execute_result",
          "data": {
            "text/plain": [
              "<seaborn.axisgrid.FacetGrid at 0x7f22093f63d0>"
            ]
          },
          "metadata": {
            "tags": []
          },
          "execution_count": 38
        },
        {
          "output_type": "display_data",
          "data": {
            "image/png": "[encoded data removed]",
            "text/plain": [
              "<Figure size 765.75x1080 with 6 Axes>"
            ]
          },
          "metadata": {
            "tags": [],
            "needs_background": "light"
          }
        }
      ]
    },
    {
      "cell_type": "code",
      "metadata": {
        "colab": {
          "base_uri": "https://localhost:8080/",
          "height": 1000
        },
        "id": "4SyZ3wk2Ssxj",
        "outputId": "0b7d17b2-5838-45fb-8590-57a5a87778f9"
      },
      "source": [
        "sns.factorplot(data = df_train_store, x =\"Month\", y = \"SalesperCustomer\", \n",
        "               col = 'Promo', # per store type in cols\n",
        "               hue = 'Promo2',\n",
        "               row = \"Year\"\n",
        "              ,sharex=False)"
      ],
      "execution_count": null,
      "outputs": [
        {
          "output_type": "execute_result",
          "data": {
            "text/plain": [
              "<seaborn.axisgrid.FacetGrid at 0x7f2209797b10>"
            ]
          },
          "metadata": {
            "tags": []
          },
          "execution_count": 39
        },
        {
          "output_type": "display_data",
          "data": {
            "image/png": "[encoded data removed]",
            "text/plain": [
              "<Figure size 765.75x1080 with 6 Axes>"
            ]
          },
          "metadata": {
            "tags": [],
            "needs_background": "light"
          }
        }
      ]
    },
    {
      "cell_type": "markdown",
      "metadata": {
        "id": "aKkh7l7rS2Rw"
      },
      "source": [
        "**Findings:**\n",
        "\n",
        "*  We see the dramatic change when we compare having promotion Promo=1 to not having promotion Promo=0 and can conclude that a store that have promotion on a given day changes its amount of sales considerably.\n",
        "\n",
        "*  But Surprisingly, when we check more granularly at the Promo2 variable (indicating a contunious promotion blue vs orange) we see that in general when there is no consecutive promotion stores tend to sell more then with consecutive promotion. This is probably a solution they're putting in place to treat stores with very low sales in the first place. And indeed when checking the Sales per Customer over promotion we understand that initially those stores suffer from low sales and those continuous promotion shows a tremending increase in the buying power of customers.\n",
        "\n",
        "*  If we look over the years,there is a slight increase Year over Year but we don't see any major change from 2013 to 2015 and we actually see a very similair pattern in the months over the years with major spikes first around Easter period in March and April then in Summer in May,June and July and then finally around the Christmas period in November and December.\n",
        "\n",
        "What if we go more granular to look at days in a week for promotion impact?"
      ]
    },
    {
      "cell_type": "code",
      "metadata": {
        "colab": {
          "base_uri": "https://localhost:8080/",
          "height": 400
        },
        "id": "pRKBmOGuTDdz",
        "outputId": "49a12859-3110-46ba-ddb9-dbe7cef7e3ea"
      },
      "source": [
        "sns.factorplot(data = df_train_store, x =\"DayOfWeek\", y = \"Sales\",\n",
        "                hue='Promo'\n",
        "              ,sharex=False)"
      ],
      "execution_count": null,
      "outputs": [
        {
          "output_type": "execute_result",
          "data": {
            "text/plain": [
              "<seaborn.axisgrid.FacetGrid at 0x7f2208113350>"
            ]
          },
          "metadata": {
            "tags": []
          },
          "execution_count": 40
        },
        {
          "output_type": "display_data",
          "data": {
            "image/png": "[encoded data removed]",
            "text/plain": [
              "<Figure size 402.375x360 with 1 Axes>"
            ]
          },
          "metadata": {
            "tags": [],
            "needs_background": "light"
          }
        }
      ]
    },
    {
      "cell_type": "code",
      "metadata": {
        "colab": {
          "base_uri": "https://localhost:8080/"
        },
        "id": "QOFoICHXTHZ8",
        "outputId": "6cdad055-eead-4a09-f676-7ad92bf297d7"
      },
      "source": [
        "#33 Stores are opened on Sundays\n",
        "print (\"Number of Stores opened on Sundays:{}\" .format(df_train_store[(df_train_store.Open == 1) & (df_train_store.DayOfWeek == 7)]['Store'].unique().shape[0]))"
      ],
      "execution_count": null,
      "outputs": [
        {
          "output_type": "stream",
          "text": [
            "Number of Stores opened on Sundays:33\n"
          ],
          "name": "stdout"
        }
      ]
    },
    {
      "cell_type": "markdown",
      "metadata": {
        "id": "09H2QcxTTKDj"
      },
      "source": [
        "**Findings:**\n",
        "\n",
        "\n",
        "*  We see already a big difference again even on a week level (from Monday to Friday) when we seperate promotion and no promotion.We see there are no promotions during the weekend.\n",
        "\n",
        "*  For Sunday to have such a high peak is understandable, since a very few stores opens on Sundays (only 33);if anyone needs anything urgently and don't have the time to get it during the week, he will have to do some distance to get to the open ones even if it's not close to his house. This means that those 33 open stores on Sunday actually accounts for the potential demand if all Rossman Stores were closed on Sundays. This clearly shows us how important it is for stores to be opened on Sundays.\n",
        "\n",
        "*  After attempting to look at Sales behaviour in a week over the Years and over the months, i concluded that the pattern doesn't change, which means all the time there is a peak on Mondays with promotions, a tiny peak on Friday before the weekend and a big peak on Sunday because of closed stores.\n",
        "\n",
        "**Competition Distance:**\n",
        "\n",
        "What i find also interesting to plot is the effect of the closest competition distance on Sales, to see whether the one with very far competition actually make more sales then the one with close competition.\n",
        "\n",
        "\n",
        "\n",
        "Since CompetitionDistance is a continuous variable, we need to first convert it into a categorical variable with 5 different bins (i chose this number by looking at the distribution and to keep aesthetic)."
      ]
    },
    {
      "cell_type": "code",
      "metadata": {
        "id": "BVEWv39DTa0z"
      },
      "source": [
        "df_train_store['CompetitionDist_Cat']=pd.cut(df_train_store['CompetitionDistance'], 5)"
      ],
      "execution_count": null,
      "outputs": []
    },
    {
      "cell_type": "code",
      "metadata": {
        "colab": {
          "base_uri": "https://localhost:8080/",
          "height": 305
        },
        "id": "ea44nJQBTc5j",
        "outputId": "478d6389-88c5-4386-8c71-f05b06a94efe"
      },
      "source": [
        "df_train_store.head()"
      ],
      "execution_count": null,
      "outputs": [
        {
          "output_type": "execute_result",
          "data": {
            "text/html": [
              "<div>\n",
              "<style scoped>\n",
              "    .dataframe tbody tr th:only-of-type {\n",
              "        vertical-align: middle;\n",
              "    }\n",
              "\n",
              "    .dataframe tbody tr th {\n",
              "        vertical-align: top;\n",
              "    }\n",
              "\n",
              "    .dataframe thead th {\n",
              "        text-align: right;\n",
              "    }\n",
              "</style>\n",
              "<table border=\"1\" class=\"dataframe\">\n",
              "  <thead>\n",
              "    <tr style=\"text-align: right;\">\n",
              "      <th></th>\n",
              "      <th>Store</th>\n",
              "      <th>DayOfWeek</th>\n",
              "      <th>Date</th>\n",
              "      <th>Sales</th>\n",
              "      <th>Customers</th>\n",
              "      <th>Open</th>\n",
              "      <th>Promo</th>\n",
              "      <th>StateHoliday</th>\n",
              "      <th>SchoolHoliday</th>\n",
              "      <th>StoreType</th>\n",
              "      <th>Assortment</th>\n",
              "      <th>CompetitionDistance</th>\n",
              "      <th>CompetitionOpenSinceMonth</th>\n",
              "      <th>CompetitionOpenSinceYear</th>\n",
              "      <th>Promo2</th>\n",
              "      <th>Promo2SinceWeek</th>\n",
              "      <th>Promo2SinceYear</th>\n",
              "      <th>PromoInterval</th>\n",
              "      <th>SalesperCustomer</th>\n",
              "      <th>Month</th>\n",
              "      <th>Year</th>\n",
              "      <th>CompetitionDist_Cat</th>\n",
              "    </tr>\n",
              "  </thead>\n",
              "  <tbody>\n",
              "    <tr>\n",
              "      <th>0</th>\n",
              "      <td>1</td>\n",
              "      <td>5</td>\n",
              "      <td>2015-07-31</td>\n",
              "      <td>5263</td>\n",
              "      <td>555</td>\n",
              "      <td>1</td>\n",
              "      <td>1</td>\n",
              "      <td>0</td>\n",
              "      <td>1</td>\n",
              "      <td>c</td>\n",
              "      <td>a</td>\n",
              "      <td>1270.0</td>\n",
              "      <td>9.0</td>\n",
              "      <td>2008.0</td>\n",
              "      <td>0</td>\n",
              "      <td>0.0</td>\n",
              "      <td>0.0</td>\n",
              "      <td>0</td>\n",
              "      <td>9.482883</td>\n",
              "      <td>7</td>\n",
              "      <td>2015</td>\n",
              "      <td>(-55.84, 15188.0]</td>\n",
              "    </tr>\n",
              "    <tr>\n",
              "      <th>1</th>\n",
              "      <td>2</td>\n",
              "      <td>5</td>\n",
              "      <td>2015-07-31</td>\n",
              "      <td>6064</td>\n",
              "      <td>625</td>\n",
              "      <td>1</td>\n",
              "      <td>1</td>\n",
              "      <td>0</td>\n",
              "      <td>1</td>\n",
              "      <td>a</td>\n",
              "      <td>a</td>\n",
              "      <td>570.0</td>\n",
              "      <td>11.0</td>\n",
              "      <td>2007.0</td>\n",
              "      <td>1</td>\n",
              "      <td>13.0</td>\n",
              "      <td>2010.0</td>\n",
              "      <td>Jan,Apr,Jul,Oct</td>\n",
              "      <td>9.702400</td>\n",
              "      <td>7</td>\n",
              "      <td>2015</td>\n",
              "      <td>(-55.84, 15188.0]</td>\n",
              "    </tr>\n",
              "    <tr>\n",
              "      <th>2</th>\n",
              "      <td>3</td>\n",
              "      <td>5</td>\n",
              "      <td>2015-07-31</td>\n",
              "      <td>8314</td>\n",
              "      <td>821</td>\n",
              "      <td>1</td>\n",
              "      <td>1</td>\n",
              "      <td>0</td>\n",
              "      <td>1</td>\n",
              "      <td>a</td>\n",
              "      <td>a</td>\n",
              "      <td>14130.0</td>\n",
              "      <td>12.0</td>\n",
              "      <td>2006.0</td>\n",
              "      <td>1</td>\n",
              "      <td>14.0</td>\n",
              "      <td>2011.0</td>\n",
              "      <td>Jan,Apr,Jul,Oct</td>\n",
              "      <td>10.126675</td>\n",
              "      <td>7</td>\n",
              "      <td>2015</td>\n",
              "      <td>(-55.84, 15188.0]</td>\n",
              "    </tr>\n",
              "    <tr>\n",
              "      <th>3</th>\n",
              "      <td>4</td>\n",
              "      <td>5</td>\n",
              "      <td>2015-07-31</td>\n",
              "      <td>13995</td>\n",
              "      <td>1498</td>\n",
              "      <td>1</td>\n",
              "      <td>1</td>\n",
              "      <td>0</td>\n",
              "      <td>1</td>\n",
              "      <td>c</td>\n",
              "      <td>c</td>\n",
              "      <td>620.0</td>\n",
              "      <td>9.0</td>\n",
              "      <td>2009.0</td>\n",
              "      <td>0</td>\n",
              "      <td>0.0</td>\n",
              "      <td>0.0</td>\n",
              "      <td>0</td>\n",
              "      <td>9.342457</td>\n",
              "      <td>7</td>\n",
              "      <td>2015</td>\n",
              "      <td>(-55.84, 15188.0]</td>\n",
              "    </tr>\n",
              "    <tr>\n",
              "      <th>4</th>\n",
              "      <td>5</td>\n",
              "      <td>5</td>\n",
              "      <td>2015-07-31</td>\n",
              "      <td>4822</td>\n",
              "      <td>559</td>\n",
              "      <td>1</td>\n",
              "      <td>1</td>\n",
              "      <td>0</td>\n",
              "      <td>1</td>\n",
              "      <td>a</td>\n",
              "      <td>a</td>\n",
              "      <td>29910.0</td>\n",
              "      <td>4.0</td>\n",
              "      <td>2015.0</td>\n",
              "      <td>0</td>\n",
              "      <td>0.0</td>\n",
              "      <td>0.0</td>\n",
              "      <td>0</td>\n",
              "      <td>8.626118</td>\n",
              "      <td>7</td>\n",
              "      <td>2015</td>\n",
              "      <td>(15188.0, 30356.0]</td>\n",
              "    </tr>\n",
              "  </tbody>\n",
              "</table>\n",
              "</div>"
            ],
            "text/plain": [
              "   Store  DayOfWeek       Date  ...  Month  Year  CompetitionDist_Cat\n",
              "0      1          5 2015-07-31  ...      7  2015    (-55.84, 15188.0]\n",
              "1      2          5 2015-07-31  ...      7  2015    (-55.84, 15188.0]\n",
              "2      3          5 2015-07-31  ...      7  2015    (-55.84, 15188.0]\n",
              "3      4          5 2015-07-31  ...      7  2015    (-55.84, 15188.0]\n",
              "4      5          5 2015-07-31  ...      7  2015   (15188.0, 30356.0]\n",
              "\n",
              "[5 rows x 22 columns]"
            ]
          },
          "metadata": {
            "tags": []
          },
          "execution_count": 43
        }
      ]
    },
    {
      "cell_type": "code",
      "metadata": {
        "colab": {
          "base_uri": "https://localhost:8080/"
        },
        "id": "VhktXDFHTfqc",
        "outputId": "cd173815-eaa6-4ff7-ac9d-7879de160f06"
      },
      "source": [
        "df_train_store.groupby(by=\"CompetitionDist_Cat\").Sales.mean(),df_train_store.groupby(by=\"CompetitionDist_Cat\").Customers.mean()"
      ],
      "execution_count": null,
      "outputs": [
        {
          "output_type": "execute_result",
          "data": {
            "text/plain": [
              "(CompetitionDist_Cat\n",
              " (-55.84, 15188.0]     6957.360876\n",
              " (15188.0, 30356.0]    7041.604692\n",
              " (30356.0, 45524.0]    6471.923562\n",
              " (45524.0, 60692.0]    5980.114445\n",
              " (60692.0, 75860.0]    7775.446449\n",
              " Name: Sales, dtype: float64, CompetitionDist_Cat\n",
              " (-55.84, 15188.0]     771.345223\n",
              " (15188.0, 30356.0]    691.574605\n",
              " (30356.0, 45524.0]    680.101854\n",
              " (45524.0, 60692.0]    643.988246\n",
              " (60692.0, 75860.0]    914.574972\n",
              " Name: Customers, dtype: float64)"
            ]
          },
          "metadata": {
            "tags": []
          },
          "execution_count": 44
        }
      ]
    },
    {
      "cell_type": "markdown",
      "metadata": {
        "id": "vN3lw8J4TkHr"
      },
      "source": [
        "**Findings:**\n",
        "\n",
        "\n",
        "*  As we can see here, like i thought, the stores that are the furthest have the highest average sales and number of customers.\n",
        "\n",
        "*  This doesn't mean automatically that the furthest the better, but it does shed light on the fact that when there are no competition nearby, stores tend to sell more and have more customers because there are almost a monopoly in this region. We could think of it as McDonalds on highways where there are no other restaurants around, people who are hungry are forced to go there to eat.\n",
        "\n",
        "**Preliminary Step for Correlation Analysis:**\n",
        "\n",
        "Since we need numerical variables for both our correlation Analysis and to feed the decision tree based models, we need to transform what is not numerical to a numerical representation while keeping the logic behind it present.\n",
        "\n",
        "\n",
        "Since we used CompetitionDist_Cat just to show the variation of the variable CompetitionDistance we can go ahead and remove it now."
      ]
    },
    {
      "cell_type": "code",
      "metadata": {
        "id": "eSkVJhQsT1ry"
      },
      "source": [
        "del df_train_store[\"CompetitionDist_Cat\"]"
      ],
      "execution_count": null,
      "outputs": []
    },
    {
      "cell_type": "markdown",
      "metadata": {
        "id": "e2cSkL3NT3-b"
      },
      "source": [
        "Let's get Days from Date and delete Date since we already have its Year and Month:"
      ]
    },
    {
      "cell_type": "code",
      "metadata": {
        "id": "B80VCZR9T4g_"
      },
      "source": [
        "df_train_store['Day']=df_train_store.Date.dt.day"
      ],
      "execution_count": null,
      "outputs": []
    },
    {
      "cell_type": "code",
      "metadata": {
        "id": "9Tz66ziJT8WD"
      },
      "source": [
        "del df_train_store[\"Date\"]"
      ],
      "execution_count": null,
      "outputs": []
    },
    {
      "cell_type": "markdown",
      "metadata": {
        "id": "4vdE-b9uT-1L"
      },
      "source": [
        "We still have StoreType,Assortment and StateHoliday as Obejcts we need to convert them to numerical categories:\n",
        "\n",
        "But first we need to make sure we don't have Nan before doing those transformations otherwise Nan will be equal to -1"
      ]
    },
    {
      "cell_type": "code",
      "metadata": {
        "colab": {
          "base_uri": "https://localhost:8080/"
        },
        "id": "nXPMb45TUApb",
        "outputId": "d9873148-a58c-49a0-ae08-1cb074b9966e"
      },
      "source": [
        "df_train_store['StoreType'].isnull().any(),df_train_store['Assortment'].isnull().any(),df_train_store['StateHoliday'].isnull().any()\n",
        "#No Null values we can proceed with the transformation"
      ],
      "execution_count": null,
      "outputs": [
        {
          "output_type": "execute_result",
          "data": {
            "text/plain": [
              "(False, False, False)"
            ]
          },
          "metadata": {
            "tags": []
          },
          "execution_count": 48
        }
      ]
    },
    {
      "cell_type": "code",
      "metadata": {
        "colab": {
          "base_uri": "https://localhost:8080/"
        },
        "id": "9A8G1p8bUEmT",
        "outputId": "d6e942ac-b22e-4647-b613-2ccfd861dfb6"
      },
      "source": [
        "df_train_store[\"StoreType\"].value_counts(),df_train_store[\"Assortment\"].value_counts(),df_train_store[\"StateHoliday\"].value_counts()"
      ],
      "execution_count": null,
      "outputs": [
        {
          "output_type": "execute_result",
          "data": {
            "text/plain": [
              "(a    457042\n",
              " d    258768\n",
              " c    112968\n",
              " b     15560\n",
              " Name: StoreType, dtype: int64, a    444875\n",
              " c    391254\n",
              " b      8209\n",
              " Name: Assortment, dtype: int64, 0    843428\n",
              " a       694\n",
              " b       145\n",
              " c        71\n",
              " Name: StateHoliday, dtype: int64)"
            ]
          },
          "metadata": {
            "tags": []
          },
          "execution_count": 49
        }
      ]
    },
    {
      "cell_type": "code",
      "metadata": {
        "id": "hXa8ojlrUG_l"
      },
      "source": [
        "df_train_store['StateHoliday'] = df_train_store['StateHoliday'].astype('category')\n",
        "df_train_store['Assortment'] = df_train_store['Assortment'].astype('category')\n",
        "df_train_store['StoreType'] = df_train_store['StoreType'].astype('category')\n",
        "df_train_store['PromoInterval']= df_train_store['PromoInterval'].astype('category')"
      ],
      "execution_count": null,
      "outputs": []
    },
    {
      "cell_type": "code",
      "metadata": {
        "id": "VEW55FmJUJ30"
      },
      "source": [
        "df_train_store['StateHoliday_cat'] = df_train_store['StateHoliday'].cat.codes\n",
        "df_train_store['Assortment_cat'] = df_train_store['Assortment'].cat.codes\n",
        "df_train_store['StoreType_cat'] = df_train_store['StoreType'].cat.codes\n",
        "df_train_store['PromoInterval_cat'] = df_train_store['PromoInterval'].cat.codes"
      ],
      "execution_count": null,
      "outputs": []
    },
    {
      "cell_type": "code",
      "metadata": {
        "id": "iapxI6CoUtQr"
      },
      "source": [
        "df_train_store['StateHoliday_cat'] = df_train_store['StateHoliday_cat'].astype('float')\n",
        "df_train_store['Assortment_cat'] = df_train_store['Assortment_cat'].astype('float')\n",
        "df_train_store['StoreType_cat'] = df_train_store['StoreType_cat'].astype('float')\n",
        "df_train_store['PromoInterval_cat'] = df_train_store['PromoInterval_cat'].astype('float')"
      ],
      "execution_count": null,
      "outputs": []
    },
    {
      "cell_type": "markdown",
      "metadata": {
        "id": "3nzVDnCnUwFo"
      },
      "source": [
        "Since associating 0,1,2,3 to categorical variables like StoreType,Assortment,StateHoliday affect the bias of the algorithm (0 would account less then 3 when actually StoreType a and StoreType c should be treated equally). I will just convert it to categorical now for the purpose of the correlation analysis and then use the get_dummies function to encode them binarly."
      ]
    },
    {
      "cell_type": "code",
      "metadata": {
        "id": "Gdri289gUzml"
      },
      "source": [
        "#df_train_store[['StateHoliday', 'StoreType', 'Assortment']] = df_train_store[['StateHoliday', 'StoreType', 'Assortment']].apply(lambda x: x.cat.codes)"
      ],
      "execution_count": null,
      "outputs": []
    },
    {
      "cell_type": "code",
      "metadata": {
        "colab": {
          "base_uri": "https://localhost:8080/"
        },
        "id": "M7AWphXSU2DD",
        "outputId": "2ac73b45-9cbf-4cdb-9916-4f9b95be1079"
      },
      "source": [
        "df_train_store.dtypes"
      ],
      "execution_count": null,
      "outputs": [
        {
          "output_type": "execute_result",
          "data": {
            "text/plain": [
              "Store                           int64\n",
              "DayOfWeek                       int64\n",
              "Sales                           int64\n",
              "Customers                       int64\n",
              "Open                            int64\n",
              "Promo                           int64\n",
              "StateHoliday                 category\n",
              "SchoolHoliday                   int64\n",
              "StoreType                    category\n",
              "Assortment                   category\n",
              "CompetitionDistance           float64\n",
              "CompetitionOpenSinceMonth     float64\n",
              "CompetitionOpenSinceYear      float64\n",
              "Promo2                          int64\n",
              "Promo2SinceWeek               float64\n",
              "Promo2SinceYear               float64\n",
              "PromoInterval                category\n",
              "SalesperCustomer              float64\n",
              "Month                           int64\n",
              "Year                            int64\n",
              "Day                             int64\n",
              "StateHoliday_cat              float64\n",
              "Assortment_cat                float64\n",
              "StoreType_cat                 float64\n",
              "PromoInterval_cat             float64\n",
              "dtype: object"
            ]
          },
          "metadata": {
            "tags": []
          },
          "execution_count": 53
        }
      ]
    },
    {
      "cell_type": "markdown",
      "metadata": {
        "id": "NzSV-zsvU5hI"
      },
      "source": [
        "**Correlation Analysis:**\n",
        "\n"
      ]
    },
    {
      "cell_type": "code",
      "metadata": {
        "id": "24EmF04kU9Qc"
      },
      "source": [
        "df_correlation=df_train_store[['Store', 'DayOfWeek', 'Sales', 'Customers', 'Open', 'Promo',\n",
        "        'SchoolHoliday',\n",
        "       'CompetitionDistance', 'CompetitionOpenSinceMonth',\n",
        "       'CompetitionOpenSinceYear', 'Promo2', 'Promo2SinceWeek',\n",
        "       'Promo2SinceYear', 'SalesperCustomer', 'Month', 'Year',\n",
        "       'Day', 'StateHoliday_cat', 'Assortment_cat', 'StoreType_cat',\n",
        "       'PromoInterval_cat']]"
      ],
      "execution_count": null,
      "outputs": []
    },
    {
      "cell_type": "code",
      "metadata": {
        "id": "Q1O5A5v9U_wj"
      },
      "source": [
        "df_correlation=df_correlation.drop('Open', axis = 1)"
      ],
      "execution_count": null,
      "outputs": []
    },
    {
      "cell_type": "code",
      "metadata": {
        "colab": {
          "base_uri": "https://localhost:8080/",
          "height": 743
        },
        "id": "k_bRBqTSVCNv",
        "outputId": "4bb27f00-2afa-4bdd-90f8-90ab96f8b41a"
      },
      "source": [
        "upper_triangle = np.zeros_like(df_correlation.corr(), dtype = np.bool)\n",
        "upper_triangle[np.triu_indices_from(upper_triangle)] = True #make sure we don't show half of the other triangle\n",
        "f, ax = plt.subplots(figsize = (15, 10))\n",
        "sns.heatmap(df_correlation.corr(),ax=ax,mask=upper_triangle,annot=True, fmt='.2f',linewidths=0.5,cmap=sns.diverging_palette(10, 133, as_cmap=True))"
      ],
      "execution_count": null,
      "outputs": [
        {
          "output_type": "execute_result",
          "data": {
            "text/plain": [
              "<matplotlib.axes._subplots.AxesSubplot at 0x7f2208141690>"
            ]
          },
          "metadata": {
            "tags": []
          },
          "execution_count": 56
        },
        {
          "output_type": "display_data",
          "data": {
            "image/png": "[encoded data removed]",
            "text/plain": [
              "<Figure size 1080x720 with 2 Axes>"
            ]
          },
          "metadata": {
            "tags": [],
            "needs_background": "light"
          }
        }
      ]
    },
    {
      "cell_type": "markdown",
      "metadata": {
        "id": "7blndkzWVH3o"
      },
      "source": [
        "**Interpretation:**\n",
        "\n",
        "*  We can first see the 0.82 between Customers and sales which suggests that they are positively correlated like we stated above in the analysis.\n",
        "\n",
        "*  It's interesting to see that Sales per Customer and Promo (0.28) actually correlate positively, since running a promotion increases that number .\n",
        "\n",
        "*  Sales per Customer also correlates with Competition Distance(0.21), in a positive manner, like i said up the higher the competitionn distance the more sales per customer we do, which makes sense , the further our competition, the more monopolization Rossman can achieve in the region.\n",
        "\n",
        "*  Additionally, the effect of promo2 to Sales per Customer like we said above as well(0.22), it did provoke a change in the buying pattern and increased it when continuous promotion were applied.\n",
        "\n",
        "*  Finally, we can see that StoreType does play a major role with Sales per Customer (0.44), this is probably due to my encoding of the store type variable which suggests that the high categories like d which is equal 4 has higher weight, but if not then it makes sense that the last categories like d does explain the increase in Sales per Customer like fig 1.6 shows.\n",
        "\n",
        "\n",
        "**Conclusion of Exploratory Analysis:**\n",
        "\n",
        "\n",
        "At this stage, we got a solid understanding of the distributions, the statistical properties and the relationships of our variables. The next step is to identify what variables to feed XGboost and Random Forest for training and to work on the modeling part of the project\n",
        "\n",
        "\n",
        "**Training with RandomForest Regressor:**\n",
        "\n",
        "\n",
        "**Definition:**\n",
        "\n",
        "\n",
        "*  RandomForest is a machine learning alogrithm used for classification and regression that is bestly used with structured and tabular data.\n",
        "\n",
        "**Its advantages:**\n",
        "\n",
        "*  Random forest runtimes are quite fast, and they are able to deal with unbalanced and missing data.\n",
        "\n",
        "*  The process of averaging or combining the results of different decision trees helps to overcome the problem of overfitting.\n",
        "\n",
        "*  They also do not require preparation of the input data. You do not have to scale the data.\n",
        "\n",
        "**Its Disadvantages:**\n",
        "\n",
        "\n",
        "*  The main drawback of Random Forests is the model size. You could easily end up with a forest that takes hundreds of megabytes of memory and is slow to evaluate.\n",
        "\n",
        "*  They get a bit harder to interpret than regular deicison trees, since we are constructing of forest of more than 50 decision trees and more using grid search.\n",
        "\n",
        "**Further Feature Engineering before Training:**\n",
        "\n",
        "\n",
        "Since the competition variables CompetitionOpenSinceYear and CompeitionOpenSinceMonth have the same underlying meaning, merging them into one variable that we call CompetitionOpenSince makes easier for the algorithm to understand the pattern and creates less branches and thus complex trees."
      ]
    },
    {
      "cell_type": "code",
      "metadata": {
        "colab": {
          "base_uri": "https://localhost:8080/"
        },
        "id": "M1Qh5T6SV6LM",
        "outputId": "8ce82c46-5258-49f5-e329-254bac814f13"
      },
      "source": [
        "df_train_store.columns"
      ],
      "execution_count": null,
      "outputs": [
        {
          "output_type": "execute_result",
          "data": {
            "text/plain": [
              "Index(['Store', 'DayOfWeek', 'Sales', 'Customers', 'Open', 'Promo',\n",
              "       'StateHoliday', 'SchoolHoliday', 'StoreType', 'Assortment',\n",
              "       'CompetitionDistance', 'CompetitionOpenSinceMonth',\n",
              "       'CompetitionOpenSinceYear', 'Promo2', 'Promo2SinceWeek',\n",
              "       'Promo2SinceYear', 'PromoInterval', 'SalesperCustomer', 'Month', 'Year',\n",
              "       'Day', 'StateHoliday_cat', 'Assortment_cat', 'StoreType_cat',\n",
              "       'PromoInterval_cat'],\n",
              "      dtype='object')"
            ]
          },
          "metadata": {
            "tags": []
          },
          "execution_count": 57
        }
      ]
    },
    {
      "cell_type": "code",
      "metadata": {
        "id": "rgOCwgGNV9eD"
      },
      "source": [
        "df_train_store['CompetitionOpenSince'] = np.where((df_train_store['CompetitionOpenSinceMonth']==0) & (df_train_store['CompetitionOpenSinceYear']==0) , 0,(df_train_store.Month - df_train_store.CompetitionOpenSinceMonth) + \n",
        "                                       (12 * (df_train_store.Year - df_train_store.CompetitionOpenSinceYear)) )"
      ],
      "execution_count": null,
      "outputs": []
    },
    {
      "cell_type": "code",
      "metadata": {
        "id": "uGkyUQD0WAkj"
      },
      "source": [
        "#now that CompetitionOpenSince is created \n",
        "#we can get rid of `CompetitionOpenSinceYear` and `CompeitionOpenSinceMonth`\n",
        "del df_train_store['CompetitionOpenSinceYear']\n",
        "del df_train_store['CompetitionOpenSinceMonth']"
      ],
      "execution_count": null,
      "outputs": []
    },
    {
      "cell_type": "markdown",
      "metadata": {
        "id": "Clb6zcgfWDPM"
      },
      "source": [
        "The StateHoliday is not very important to distinguish (what type of holiday) and can be merged in a binary variable called is_holiday_state."
      ]
    },
    {
      "cell_type": "code",
      "metadata": {
        "id": "3GRAtwlJWFyF"
      },
      "source": [
        "df_train_store[\"is_holiday_state\"] = df_train_store['StateHoliday'].map({\"0\": 0, \"a\": 1, \"b\": 1, \"c\": 1})"
      ],
      "execution_count": null,
      "outputs": []
    },
    {
      "cell_type": "code",
      "metadata": {
        "id": "63Da63ZeWIUm"
      },
      "source": [
        "del df_train_store['StateHoliday_cat']"
      ],
      "execution_count": null,
      "outputs": []
    },
    {
      "cell_type": "markdown",
      "metadata": {
        "id": "NDerqPRyWK9F"
      },
      "source": [
        "-I think it's always better when working with decision tree based models to have dummy variables instead of categorical with different levels, because this alters the bias of the algorithm who will favor a higher weight to the categories like 4 and deprioritize levels like 1. And this problem could rise in the variables Assortment and StoreType and PromoInterval. So far those are the codes we have for each variable:\n",
        "\n",
        "-That's why i use the get_dummies function to instead do a binary encoding and prevent this."
      ]
    },
    {
      "cell_type": "code",
      "metadata": {
        "id": "hU3EUVQPWNq-"
      },
      "source": [
        "df_train_store=pd.get_dummies(df_train_store, columns=[\"Assortment\", \"StoreType\",\"PromoInterval\"], prefix=[\"is_Assortment\", \"is_StoreType\",\"is_PromoInteval\"])"
      ],
      "execution_count": null,
      "outputs": []
    },
    {
      "cell_type": "code",
      "metadata": {
        "id": "AUNO8LJiWQ-Y"
      },
      "source": [
        "del df_train_store['Assortment_cat']\n",
        "del df_train_store['StoreType_cat']"
      ],
      "execution_count": null,
      "outputs": []
    },
    {
      "cell_type": "code",
      "metadata": {
        "id": "5Yth7NwOWUaN"
      },
      "source": [
        "del df_train_store['PromoInterval_cat']"
      ],
      "execution_count": null,
      "outputs": []
    },
    {
      "cell_type": "code",
      "metadata": {
        "colab": {
          "base_uri": "https://localhost:8080/"
        },
        "id": "y2XX8n8TWWs1",
        "outputId": "3391e702-691c-49d2-bc88-d1ad80b46ed5"
      },
      "source": [
        "df_train_store.columns"
      ],
      "execution_count": null,
      "outputs": [
        {
          "output_type": "execute_result",
          "data": {
            "text/plain": [
              "Index(['Store', 'DayOfWeek', 'Sales', 'Customers', 'Open', 'Promo',\n",
              "       'StateHoliday', 'SchoolHoliday', 'CompetitionDistance', 'Promo2',\n",
              "       'Promo2SinceWeek', 'Promo2SinceYear', 'SalesperCustomer', 'Month',\n",
              "       'Year', 'Day', 'CompetitionOpenSince', 'is_holiday_state',\n",
              "       'is_Assortment_a', 'is_Assortment_b', 'is_Assortment_c',\n",
              "       'is_StoreType_a', 'is_StoreType_b', 'is_StoreType_c', 'is_StoreType_d',\n",
              "       'is_PromoInteval_0', 'is_PromoInteval_Feb,May,Aug,Nov',\n",
              "       'is_PromoInteval_Jan,Apr,Jul,Oct', 'is_PromoInteval_Mar,Jun,Sept,Dec'],\n",
              "      dtype='object')"
            ]
          },
          "metadata": {
            "tags": []
          },
          "execution_count": 65
        }
      ]
    },
    {
      "cell_type": "markdown",
      "metadata": {
        "id": "UHZzpqtWWZ7k"
      },
      "source": [
        "*  The Train set is ready to be fed to the RandomForest Algorithm.\n",
        "*  Let's do the same transformation for the test set now.\n",
        "\n",
        "\n",
        "**Test Set Adaptation:**\n",
        "\n"
      ]
    },
    {
      "cell_type": "code",
      "metadata": {
        "colab": {
          "base_uri": "https://localhost:8080/"
        },
        "id": "FJZH_05zWill",
        "outputId": "4b528bfe-01ee-427d-ea7b-87f9663d1729"
      },
      "source": [
        "df_test.fillna(1, inplace = True) #11rows with Nans decided to leave them open since its one store 622 which is \n",
        "#usually open\n",
        "#Left-join the train to the store dataset since .Why?\n",
        "#Because you want to make sure you have all events even if some of them don't have their store information ( which shouldn't happen)\n",
        "df_test_store = pd.merge(df_test, df_store, how = 'left', on = 'Store')\n",
        "print (\"The Test_Store dataset has {} Rows and {} Variables\".format(str(df_test_store.shape[0]),str(df_test_store.shape[1]))) \n",
        "df_test_store['Month']=df_test_store.Date.dt.month\n",
        "df_test_store['Year']=df_test_store.Date.dt.year\n",
        "df_test_store['Day']=df_test_store.Date.dt.day\n",
        "\n",
        "df_test_store['StateHoliday'] = df_test_store['StateHoliday'].astype('category')\n",
        "df_test_store['Assortment'] = df_test_store['Assortment'].astype('category')\n",
        "df_test_store['StoreType'] = df_test_store['StoreType'].astype('category')\n",
        "df_test_store['PromoInterval']= df_test_store['PromoInterval'].astype('category')\n",
        "df_test_store['StateHoliday_cat'] = df_test_store['StateHoliday'].cat.codes\n",
        "df_test_store['Assortment_cat'] = df_test_store['Assortment'].cat.codes\n",
        "df_test_store['StoreType_cat'] = df_test_store['StoreType'].cat.codes\n",
        "df_test_store['PromoInterval_cat'] = df_test_store['PromoInterval'].cat.codes\n",
        "df_test_store['StateHoliday_cat'] = df_test_store['StateHoliday_cat'].astype('float')\n",
        "df_test_store['Assortment_cat'] = df_test_store['Assortment_cat'].astype('float')\n",
        "df_test_store['StoreType_cat'] = df_test_store['StoreType_cat'].astype('float')\n",
        "df_test_store['PromoInterval_cat'] = df_test_store['PromoInterval_cat'].astype('float')\n",
        "df_test_store['CompetitionOpenSince'] = np.where((df_test_store['CompetitionOpenSinceMonth']==0) & (df_test_store['CompetitionOpenSinceYear']==0) , 0,(df_test_store.Month - df_test_store.CompetitionOpenSinceMonth) + \n",
        "                                       (12 * (df_test_store.Year - df_test_store.CompetitionOpenSinceYear)) )\n",
        "\n",
        "\n",
        "df_test_store[\"is_holiday_state\"] = df_test_store['StateHoliday'].map({\"0\": 0, \"a\": 1, \"b\": 1, \"c\": 1})\n",
        "\n",
        "\n",
        "\n",
        "\n",
        "df_test_store=pd.get_dummies(df_test_store, columns=[\"Assortment\", \"StoreType\",\"PromoInterval\"], prefix=[\"is_Assortment\", \"is_StoreType\",\"is_PromoInteval\"])\n"
      ],
      "execution_count": null,
      "outputs": [
        {
          "output_type": "stream",
          "text": [
            "The Test_Store dataset has 41088 Rows and 17 Variables\n"
          ],
          "name": "stdout"
        }
      ]
    },
    {
      "cell_type": "code",
      "metadata": {
        "id": "hKPlLFzTZasV"
      },
      "source": [
        "del df_test_store[\"Date\"]\n",
        "del df_test_store['CompetitionOpenSinceYear']\n",
        "del df_test_store['CompetitionOpenSinceMonth']"
      ],
      "execution_count": null,
      "outputs": []
    },
    {
      "cell_type": "code",
      "metadata": {
        "id": "FRFt5E20ZdHF"
      },
      "source": [
        "del df_test_store['StateHoliday_cat']"
      ],
      "execution_count": null,
      "outputs": []
    },
    {
      "cell_type": "code",
      "metadata": {
        "id": "WfgMDiaCZfYm"
      },
      "source": [
        "del df_test_store['Assortment_cat']\n",
        "del df_test_store['StoreType_cat']\n",
        "del df_test_store['PromoInterval_cat']"
      ],
      "execution_count": null,
      "outputs": []
    },
    {
      "cell_type": "code",
      "metadata": {
        "id": "mQDRSlozZiTT"
      },
      "source": [
        "del df_test_store['StateHoliday']"
      ],
      "execution_count": null,
      "outputs": []
    },
    {
      "cell_type": "code",
      "metadata": {
        "id": "O4TMBMwPZmS-"
      },
      "source": [
        "del df_train_store['StateHoliday']"
      ],
      "execution_count": null,
      "outputs": []
    },
    {
      "cell_type": "markdown",
      "metadata": {
        "id": "AXKWy2H1ZpC_"
      },
      "source": [
        "Now that my Test Set is ready i can go back and proceed with the training phase\n",
        "\n",
        "\n",
        "**Developing The Model**\n",
        "\n",
        "\n",
        "In this section of the project, I will develop a randomforestregressor training and fitting using GridSearch for hyperparameter optimization to make a prediction. Then ,I will make accurate evaluations of each model's performance (RandomForestRegressor vs XGBoostRegressor) through the use of the sklearn library which will help me evaluate which model is more suitable.\n",
        "\n",
        "**Developing The Model: Define a Performance Metric**\n",
        "\n",
        "\n",
        "It is difficult to measure the quality of a given model without quantifying its performance over training and testing. This is typically done using some type of performance metric. For this project, I will use the rmspe(Root Mean Square Percentage Error) score provided as an evaluation metric for the competition. You can find the formula inserted in a function down below.If the result is lower then 10% this signifies a very good quality of predicition and would be our goal in this project.\n",
        "\n",
        "\n"
      ]
    },
    {
      "cell_type": "code",
      "metadata": {
        "id": "SOgQgb32aCPX"
      },
      "source": [
        "def rmspe(y, yhat):\n",
        "    rmspe = np.sqrt(np.mean( (y - yhat)**2 ))\n",
        "    return rmspe"
      ],
      "execution_count": null,
      "outputs": []
    },
    {
      "cell_type": "code",
      "metadata": {
        "id": "O41P-H19aGbt"
      },
      "source": [
        "features = df_train_store.drop(['Customers', 'Sales', 'SalesperCustomer'], axis = 1) \n",
        "#a rule of thumb is to transform my target value to log if i see the values are very dispersed which is the case\n",
        "#and then of course revert them with np.exp to their real values\n",
        "targets=np.log(df_train_store.Sales)"
      ],
      "execution_count": null,
      "outputs": []
    },
    {
      "cell_type": "markdown",
      "metadata": {
        "id": "tFpXz_AzbAPP"
      },
      "source": [
        "**Developing The Model: Shuffle and Split Data with Cross Validation, Grid Search and Fitting the model:**\n",
        "\n",
        "\n",
        "A crucial Step in Machine Learning is to make sure your model is robust by testing it on a small part of your dataset we call here train_test set which is usually divided 80% training and 20% validation."
      ]
    },
    {
      "cell_type": "code",
      "metadata": {
        "colab": {
          "base_uri": "https://localhost:8080/"
        },
        "id": "XcQrtasZbGqS",
        "outputId": "00fc9740-00ca-4fe7-e67a-f4eda365f95e"
      },
      "source": [
        "X_train, X_train_test, y_train, y_train_test = model_selection.train_test_split(features, targets, test_size=0.20, random_state=15)\n",
        "print (\"Training and testing split was successful.\")"
      ],
      "execution_count": null,
      "outputs": [
        {
          "output_type": "stream",
          "text": [
            "Training and testing split was successful.\n"
          ],
          "name": "stdout"
        }
      ]
    },
    {
      "cell_type": "markdown",
      "metadata": {
        "id": "fklVSmGlbLL-"
      },
      "source": [
        "Instead of doing a function, i decided to loop over different combination of hyperparameters and see what would be the optimal combination and at least over the loop i could be monitor how is the training performing.\n",
        "\n",
        "But First let's setup the RandomForestRegressor object."
      ]
    },
    {
      "cell_type": "code",
      "metadata": {
        "colab": {
          "base_uri": "https://localhost:8080/"
        },
        "id": "VAwplGeUbQso",
        "outputId": "cf5c83a7-a31e-428a-b8d6-82a5d77bf8dd"
      },
      "source": [
        "rfr = RandomForestRegressor(n_estimators=10, \n",
        "                             criterion='mse', \n",
        "                             max_depth=5, \n",
        "                             min_samples_split=2, \n",
        "                             min_samples_leaf=1, \n",
        "                             min_weight_fraction_leaf=0.0, \n",
        "                             max_features='auto', \n",
        "                             max_leaf_nodes=None, \n",
        "                             min_impurity_decrease=0.0, \n",
        "                             min_impurity_split=None, \n",
        "                             bootstrap=True, \n",
        "                             oob_score=False,\n",
        "                             n_jobs=4,\n",
        "                             random_state=31, \n",
        "                             verbose=0, \n",
        "                             warm_start=False)\n",
        "rfr.fit(X_train, y_train)"
      ],
      "execution_count": null,
      "outputs": [
        {
          "output_type": "execute_result",
          "data": {
            "text/plain": [
              "RandomForestRegressor(bootstrap=True, ccp_alpha=0.0, criterion='mse',\n",
              "                      max_depth=5, max_features='auto', max_leaf_nodes=None,\n",
              "                      max_samples=None, min_impurity_decrease=0.0,\n",
              "                      min_impurity_split=None, min_samples_leaf=1,\n",
              "                      min_samples_split=2, min_weight_fraction_leaf=0.0,\n",
              "                      n_estimators=10, n_jobs=4, oob_score=False,\n",
              "                      random_state=31, verbose=0, warm_start=False)"
            ]
          },
          "metadata": {
            "tags": []
          },
          "execution_count": 90
        }
      ]
    },
    {
      "cell_type": "markdown",
      "metadata": {
        "id": "7t-cwXnFbWlf"
      },
      "source": [
        "The choice of the combinations of my hyperparameters are based on my past experience with Machine learning projects i worked on,most of the time the number of estimators should not exceed the 100 trees since the training set is big enough and the computational ressources needed are very big and in this case we're only using a local computer with 16GB of Ram. As of the min_samples_split being the minimum number of samples required to split an internal node, i am giving it full freedom to not limit itself only requiring minimum 2 but making it more conservative but trying 10 for instance which could alter the default way it splits its nodes in each tree."
      ]
    },
    {
      "cell_type": "code",
      "metadata": {
        "id": "B_77s_v_bcxs"
      },
      "source": [
        "'''\n",
        "params = {'max_depth':(4,6,8,10,12,14,16,20),\n",
        "         'n_estimators':(4,8,16,24,48,72,96,128),\n",
        "         'min_samples_split':(2,4,6,8,10)}\n",
        "#scoring_fnc = metrics.make_scorer(rmspe)\n",
        "#the dimensionality is high, the number of combinations we have to search is enormous, using RandomizedSearchCV \n",
        "# is a better option then GridSearchCV\n",
        "grid = model_selection.RandomizedSearchCV(estimator=rfr,param_distributions=params,cv=10) \n",
        "#choosing 10 K-Folds makes sure i went through all of the data and didn't miss any pattern.(takes time to run but is worth doing it)\n",
        "grid.fit(X_train, y_train)\n",
        "'''\n",
        "#I AM NOT GOING TO RUN THIS CHUNK TO BE ABLE TO COMMIT AND RUN MY KERNEL ON KAGGLE"
      ],
      "execution_count": null,
      "outputs": []
    },
    {
      "cell_type": "code",
      "metadata": {
        "id": "rVbt2csAbflQ"
      },
      "source": [
        "#This is the best combination i got from what i propose to try out with a (mse) score of 0.855 which is quite good\n",
        "#grid.best_params_,grid.best_score_\n",
        "#MY BEST PARAMS ARE :n_estimators=128,max_depth=20,min_samples_split=10\n"
      ],
      "execution_count": null,
      "outputs": []
    },
    {
      "cell_type": "markdown",
      "metadata": {
        "id": "eRDfIE65bl-O"
      },
      "source": [
        "**Test our RF on the validation set:**"
      ]
    },
    {
      "cell_type": "code",
      "metadata": {
        "id": "nEFTNJNfbrI3"
      },
      "source": [
        "#with the optimal parameters i got let's see how it behaves with the validation set\n",
        "rfr_val=RandomForestRegressor(n_estimators=128, \n",
        "                             criterion='mse', \n",
        "                             max_depth=20, \n",
        "                             min_samples_split=10, \n",
        "                             min_samples_leaf=1, \n",
        "                             min_weight_fraction_leaf=0.0, \n",
        "                             max_features='auto', \n",
        "                             max_leaf_nodes=None, \n",
        "                             min_impurity_decrease=0.0, \n",
        "                             min_impurity_split=None, \n",
        "                             bootstrap=True, \n",
        "                             oob_score=False,\n",
        "                             n_jobs=4, #setting n_jobs to 4 makes sure you're using the full potential of the machine you're running the training on\n",
        "                             random_state=35, \n",
        "                             verbose=0, \n",
        "                             warm_start=False)\n",
        "model_RF_test=rfr_val.fit(X_train,y_train)"
      ],
      "execution_count": null,
      "outputs": []
    },
    {
      "cell_type": "code",
      "metadata": {
        "id": "9x0t0qgKb2mG"
      },
      "source": [
        "yhat=model_RF_test.predict(X_train_test)"
      ],
      "execution_count": null,
      "outputs": []
    },
    {
      "cell_type": "code",
      "metadata": {
        "colab": {
          "base_uri": "https://localhost:8080/",
          "height": 364
        },
        "id": "8wg1QSSOb4_5",
        "outputId": "70b35f07-2855-45ae-8a99-7e3c8c14aabe"
      },
      "source": [
        "plt.hist(yhat)"
      ],
      "execution_count": null,
      "outputs": [
        {
          "output_type": "execute_result",
          "data": {
            "text/plain": [
              "(array([2.0000e+01, 2.3100e+02, 9.3200e+02, 5.9060e+03, 2.8602e+04,\n",
              "        7.3568e+04, 4.7568e+04, 1.0021e+04, 1.9310e+03, 8.9000e+01]),\n",
              " array([ 6.51439833,  6.91015948,  7.30592062,  7.70168176,  8.0974429 ,\n",
              "         8.49320404,  8.88896518,  9.28472632,  9.68048746, 10.0762486 ,\n",
              "        10.47200974]),\n",
              " <a list of 10 Patch objects>)"
            ]
          },
          "metadata": {
            "tags": []
          },
          "execution_count": 93
        },
        {
          "output_type": "display_data",
          "data": {
            "image/png": "[encoded data removed]",
            "text/plain": [
              "<Figure size 432x288 with 1 Axes>"
            ]
          },
          "metadata": {
            "tags": [],
            "needs_background": "light"
          }
        }
      ]
    },
    {
      "cell_type": "code",
      "metadata": {
        "colab": {
          "base_uri": "https://localhost:8080/"
        },
        "id": "oehnFK2zcQtf",
        "outputId": "49408f51-ed43-4aff-cd6a-0c2d05287a23"
      },
      "source": [
        "error=rmspe(y_train_test,yhat)\n",
        "error"
      ],
      "execution_count": null,
      "outputs": [
        {
          "output_type": "execute_result",
          "data": {
            "text/plain": [
              "0.16115219602041345"
            ]
          },
          "metadata": {
            "tags": []
          },
          "execution_count": 94
        }
      ]
    },
    {
      "cell_type": "markdown",
      "metadata": {
        "id": "dbA3tp-ncTq_"
      },
      "source": [
        "Well 0.16 on RMSPE is a very good measure that usually indicates the quality of my predictions are very good. With the right amoung of comupational ressources and a bit more time i could manage to lower this score to reach the 0.10\n",
        "\n",
        "\n",
        "\n",
        "**Results:**\n",
        "\n",
        "\n",
        "At this stage with an RMSPE of 0.16 we're quite accurate when it comes to testing our validation set. A lot of approaches can be taken here in order to improve this score:\n",
        "\n",
        "-Either allocating more training sample when splitting so that the algorithm has more data to train on.\n",
        "\n",
        "-Proposing more variation in the hyperparameter to reach a better optimal combination.\n",
        "\n",
        "-Use another approach then RandomForest like polynomial linear regression,XGboost,Neural Network etc.\n",
        "\n",
        "\n",
        "**In order to understand better what happened when we ran our randomforest regressor, here is a chart that represents, the importance and role that each variable that i decided to include played in this learning process:**"
      ]
    },
    {
      "cell_type": "code",
      "metadata": {
        "colab": {
          "base_uri": "https://localhost:8080/",
          "height": 878
        },
        "id": "9qP7o1F9cuuP",
        "outputId": "1c55dacc-6978-4d98-c751-a48fc43cb6e5"
      },
      "source": [
        "importances = rfr_val.feature_importances_\n",
        "std = np.std([rfr_val.feature_importances_ for tree in rfr_val.estimators_],\n",
        "             axis=0)\n",
        "indices = np.argsort(importances)\n",
        "palette1 = itertools.cycle(sns.color_palette())\n",
        "# Store the feature ranking\n",
        "features_ranked=[]\n",
        "for f in range(X_train.shape[1]):\n",
        "    features_ranked.append(X_train.columns[indices[f]])\n",
        "# Plot the feature importances of the forest\n",
        "\n",
        "plt.figure(figsize=(10,15))\n",
        "plt.title(\"Feature importances\")\n",
        "plt.barh(range(X_train.shape[1]), importances[indices],\n",
        "            color=[next(palette1)], align=\"center\")\n",
        "plt.yticks(range(X_train.shape[1]), features_ranked)\n",
        "plt.ylabel('Features')\n",
        "plt.ylim([-1, X_train.shape[1]])\n",
        "plt.show()"
      ],
      "execution_count": null,
      "outputs": [
        {
          "output_type": "display_data",
          "data": {
            "image/png": "[encoded data removed]",
            "text/plain": [
              "<Figure size 720x1080 with 1 Axes>"
            ]
          },
          "metadata": {
            "tags": [],
            "needs_background": "light"
          }
        }
      ]
    },
    {
      "cell_type": "markdown",
      "metadata": {
        "id": "aspYA8dYcyfv"
      },
      "source": [
        "**Findings:**\n",
        "\n",
        "*  Our top 5 most important variables are:\n",
        "\n",
        "\n",
        "1-Competitor Distance: This indeed impacts a lot the sales of a store like we saw previously in our EDA,when competition is very far stores tend to sell a lot more.\n",
        "\n",
        "2-Promo: Promotion is primordial for a store to increase its sales, it allows price breaking and thus more customers intersted in buying.\n",
        "\n",
        "3-Store: The Store itself represents a unique identificator for the algorithm to recognise which store has what attributes and indeed better accounts for the forecasting of those same stores in a future timeline.\n",
        "\n",
        "4-CompetitionOpenSince: The merging of this variable paid out and allowed us to give more accurate predicitions of the sales based on the time of opening of those competitors.\n",
        "\n",
        "5-DayofWeek: Like we said, during a week , the pattern varies a lot if it's a sunday or a monday (like we saw in our EDA) for instance and each day in the week has his own attributes and properties that allow to know how much are we going to sell.\n",
        "\n",
        "\n",
        "**Kaggle Submission:**\n",
        "\n",
        "\n"
      ]
    },
    {
      "cell_type": "code",
      "metadata": {
        "id": "zx9EzW0oc-FU"
      },
      "source": [
        "df_test_store1=df_test_store.drop(['Id'],axis=1)\n",
        "kaggle_yhat= model_RF_test.predict(df_test_store1)\n",
        "\n",
        "kaggle_preds= pd.DataFrame({'Id': df_test_store['Id'], \n",
        "                          'Sales': np.exp(kaggle_yhat)})\n",
        "kaggle_preds.to_csv(\"Stefano_Zakher_RF_Rossman_Kaggle_submission.csv\", index = False)"
      ],
      "execution_count": null,
      "outputs": []
    },
    {
      "cell_type": "markdown",
      "metadata": {
        "id": "qeqp7IgCdAb0"
      },
      "source": [
        "**Conclusion of this project:**\n",
        "\n",
        "\n",
        "\n",
        "*  We can understand from this project the flexibility and robustness of a decision tree based model like RandomForest which helped us predict the Store Sales of Rossman based on attributes that defines each store and its surroundings.\n",
        "\n",
        "\n",
        "*  As we can see, it always delivers a good predicition score while not having a lot of modifications and difficulties capturing the patterns hidden in the data. Fortunately we had a train set that was large enough for it to converge but in general RandomForest performs not so bad on small sets since its resampling method (bagging) and its random production of trees allow the bias to remain not so high and in this case always performs good on unseen data where as XGboost has tendency to overfit if not gently and smartly tuned.\n",
        "\n",
        "\n",
        "*  I believe using hyperparameter optimization techniques like Gridsearch and RandomizedSearch is crucial to any Machine Learning problem since it allows the algorithm to not just limit itself on its defaulted parameters but to discover new opportunities of combining those parameters to reach a local optima while training on the data.\n",
        "\n",
        "\n"
      ]
    }
  ]
}